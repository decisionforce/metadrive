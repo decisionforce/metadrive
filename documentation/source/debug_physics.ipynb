{
 "cells": [
  {
   "cell_type": "markdown",
   "id": "36fbe7d7",
   "metadata": {},
   "source": [
    "### Debugging Physics\n",
    "It is important to making sure that physics world is accurate. For example, objects need bounding box to collide with each other; Physics bodies should be correctly configured for lane lines, sidewalks and crosswalks so that the contact between these road components and objects can be detected."
   ]
  }
 ],
 "metadata": {
  "kernelspec": {
   "display_name": "Python 3 (ipykernel)",
   "language": "python",
   "name": "python3"
  },
  "language_info": {
   "codemirror_mode": {
    "name": "ipython",
    "version": 3
   },
   "file_extension": ".py",
   "mimetype": "text/x-python",
   "name": "python",
   "nbconvert_exporter": "python",
   "pygments_lexer": "ipython3",
   "version": "3.7.13"
  }
 },
 "nbformat": 4,
 "nbformat_minor": 5
}
