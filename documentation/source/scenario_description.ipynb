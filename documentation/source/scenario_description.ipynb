{
 "cells": [
  {
   "cell_type": "markdown",
   "id": "6bac10fe-c1e7-4896-8925-53801b27f796",
   "metadata": {},
   "source": [
    "# Scenario Description \n",
    "\n",
    "\n",
    "There exists a lot real-world autonomous driving datasets, such as Waymo and nuPlan.\n",
    "\n",
    "Those datasets contain rich information about road map, traffic lights, traffic participants and their motions.\n",
    "\n",
    "Those data can be imported to the MetaDrive so that we can reconstruct an interactive environments and replay (or even alter!) those scenarios recorded in the real world.\n",
    "\n",
    "To achieve that, we have a separated project called ScenarioNet (https://metadriverse.github.io/scenarionet/) that converts various sources of AD data into a unified data structure, manage those data, and import those data into MetaDrive for creating interactive environments.\n",
    "\n",
    "As you can see in the next figure of ScenarioNet, the **Unified Scenario Description** is the key for the story.\n",
    "\n",
    " \n",
    "<img src=\"figs/scenarionet.png\" width=\"800\">\n"
   ]
  },
  {
   "cell_type": "code",
   "execution_count": null,
   "id": "354d2c44-0bf5-4ebb-9239-619b5b15162f",
   "metadata": {},
   "outputs": [],
   "source": []
  }
 ],
 "metadata": {
  "kernelspec": {
   "display_name": "Python 3 (ipykernel)",
   "language": "python",
   "name": "python3"
  },
  "language_info": {
   "codemirror_mode": {
    "name": "ipython",
    "version": 3
   },
   "file_extension": ".py",
   "mimetype": "text/x-python",
   "name": "python",
   "nbconvert_exporter": "python",
   "pygments_lexer": "ipython3",
   "version": "3.9.18"
  }
 },
 "nbformat": 4,
 "nbformat_minor": 5
}
