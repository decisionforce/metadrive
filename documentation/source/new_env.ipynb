{
 "cells": [
  {
   "cell_type": "markdown",
   "id": "cda14cc9-0618-4844-a54c-d4e2f66a52eb",
   "metadata": {},
   "source": [
    "# Development\n",
    "\n",
    "This section talks how to develop your own environment or simulation.\n",
    "\n",
    "\n",
    "## Other tips\n",
    "\n",
    "1. Remember to call RemoveNode of all NodePath!\n",
    "2. attachNewNode will also create NodePath so they should be destroyed too!"
   ]
  }
 ],
 "metadata": {
  "kernelspec": {
   "display_name": "Python 3 (ipykernel)",
   "language": "python",
   "name": "python3"
  },
  "language_info": {
   "codemirror_mode": {
    "name": "ipython",
    "version": 3
   },
   "file_extension": ".py",
   "mimetype": "text/x-python",
   "name": "python",
   "nbconvert_exporter": "python",
   "pygments_lexer": "ipython3",
   "version": "3.7.13"
  }
 },
 "nbformat": 4,
 "nbformat_minor": 5
}
