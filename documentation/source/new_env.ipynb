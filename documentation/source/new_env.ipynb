{
 "cells": [
  {
   "cell_type": "markdown",
   "id": "0baf5128-fc22-4536-a0c1-610d6b614b93",
   "metadata": {},
   "source": [
    "# Build New Env\n",
    "\n",
    "[![Click and Open In Colab](https://colab.research.google.com/assets/colab-badge.svg)](https://colab.research.google.com/github/metadriverse/metadrive/blob/main/documentation/source/new_env.ipynb)\n",
    "\n",
    "This section will walk through how we build new environments or simulations from scratch.\n",
    "We do the development on both Windows (10/11) and Linux (Ubuntu), using Pycharm.\n",
    "\n",
    "The project structure is as follows:\n",
    "- bridges: where the ros bridge, sumo bridge and other co-simulation modules are located\n",
    "- documentation: It contains files building this documentation\n",
    "- metadrive: the metadrive package, most content is in this directory\n",
    "\n",
    "The `metadrive` package has the following structure:\n",
    "- assets: it is downloaded from github releases automatically, containing models, textures, and mini-batch real-world scenarios\n",
    "- base_class: meta-classes for making other python classes, usually you don't need to modify it\n",
    "- component: objects/vehicles/maps/lanes, almost all elements used for constructing scenario is here\n",
    "- engine: it contains code regarding the simulation loop, asset manager/loader, physics system, logger, skybox, shadow and so on\n",
    "-  "
   ]
  },
  {
   "cell_type": "code",
   "execution_count": null,
   "id": "a3b2a647-04a9-4bea-92c9-bf9fef56108d",
   "metadata": {},
   "outputs": [],
   "source": [
    "## Start point: BaseEnv\n",
    "\n",
    "### Action Space\n",
    "\n",
    "### Observation Space\n",
    "\n",
    "## AgentManager\n",
    "The target you are interested in and wanna control\n",
    "\n",
    "## Development tips\n",
    "\n",
    "1. Remember to call RemoveNode of all NodePath!\n",
    "2. attachNewNode will also create NodePath so they should be destroyed too!"
   ]
  }
 ],
 "metadata": {
  "kernelspec": {
   "display_name": "Python 3 (ipykernel)",
   "language": "python",
   "name": "python3"
  },
  "language_info": {
   "codemirror_mode": {
    "name": "ipython",
    "version": 3
   },
   "file_extension": ".py",
   "mimetype": "text/x-python",
   "name": "python",
   "nbconvert_exporter": "python",
   "pygments_lexer": "ipython3",
   "version": "3.9.17"
  }
 },
 "nbformat": 4,
 "nbformat_minor": 5
}
