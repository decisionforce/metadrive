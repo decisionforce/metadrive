{
 "cells": [
  {
   "cell_type": "markdown",
   "id": "2832faf1-1bd3-4a95-8b0d-b3289e74d4d0",
   "metadata": {},
   "source": [
    "# Demonstration on MultigoalIntersection\n",
    "\n",
    "In this notebook, we demonstrate how to setup a multigoal intersection environment where you can access relevant stats (e.g. route completion, reward, success rate) for all four possible goals (right turn, left turn, move forward, U turn) simultaneously.\n",
    "\n",
    "We demonstrate how to build the environment, in which we have successfully trained a SAC expert that achieves 99% success rate, and how to access those stats in the info dict returned each step.\n",
    "\n",
    "*Note: We pretrain the SAC expert with `use_multigoal_intersection=False` and then finetune it with `use_multigoal_intersection=True`.*"
   ]
  },
  {
   "cell_type": "code",
   "execution_count": 1,
   "id": "b9733eac-9d07-47cf-bda7-4dbb8d5f2412",
   "metadata": {},
   "outputs": [],
   "source": [
    "import numpy as np\n",
    "from metadrive.envs.gym_wrapper import create_gym_wrapper\n",
    "from metadrive.envs.multigoal_intersection import MultiGoalIntersectionEnv\n",
    "import mediapy as media\n",
    "\n",
    "render = False\n",
    "num_scenarios = 1000\n",
    "start_seed = 100\n",
    "goal_probabilities = {\n",
    "    \"right_turn\": 0.25,\n",
    "    \"left_turn\": 0.25,\n",
    "    \"go_straight\": 0.25,\n",
    "    \"u_turn\": 0.25\n",
    "}\n",
    "\n",
    "\n",
    "class MultiGoalWrapped(MultiGoalIntersectionEnv):\n",
    "    current_goal = None\n",
    "\n",
    "    def step(self, actions):\n",
    "        o, r, tm, tc, i = super().step(actions)\n",
    "\n",
    "        o = i['obs/goals/{}'.format(self.current_goal)]\n",
    "        r = i['reward/goals/{}'.format(self.current_goal)]\n",
    "        i['route_completion'] = i['route_completion/goals/{}'.format(self.current_goal)]\n",
    "        i['arrive_dest'] = i['arrive_dest/goals/{}'.format(self.current_goal)]\n",
    "        i['reward/goals/default'] = i['reward/goals/{}'.format(self.current_goal)]\n",
    "        i['route_completion/goals/default'] = i['route_completion/goals/{}'.format(self.current_goal)]\n",
    "        i['arrive_dest/goals/default'] = i['arrive_dest/goals/{}'.format(self.current_goal)]\n",
    "        i[\"current_goal\"] = self.current_goal\n",
    "        return o, r, tm, tc, i\n",
    "\n",
    "    def reset(self, *args, **kwargs):\n",
    "        o, i = super().reset(*args, **kwargs)\n",
    "\n",
    "        # Sample a goal from the goal set\n",
    "        if self.config[\"use_multigoal_intersection\"]:\n",
    "            p = goal_probabilities\n",
    "            self.current_goal = np.random.choice(list(p.keys()), p=list(p.values()))\n",
    "\n",
    "        else:\n",
    "            self.current_goal = \"default\"\n",
    "\n",
    "        o = i['obs/goals/{}'.format(self.current_goal)]\n",
    "        i['route_completion'] = i['route_completion/goals/{}'.format(self.current_goal)]\n",
    "        i['arrive_dest'] = i['arrive_dest/goals/{}'.format(self.current_goal)]\n",
    "        i['reward/goals/default'] = i['reward/goals/{}'.format(self.current_goal)]\n",
    "        i['route_completion/goals/default'] = i['route_completion/goals/{}'.format(self.current_goal)]\n",
    "        i['arrive_dest/goals/default'] = i['arrive_dest/goals/{}'.format(self.current_goal)]\n",
    "        i[\"current_goal\"] = self.current_goal\n",
    "\n",
    "        return o, i"
   ]
  },
  {
   "cell_type": "code",
   "execution_count": 2,
   "id": "f5b6f059-52f8-46ee-bcfe-dee6f4d2e2e6",
   "metadata": {},
   "outputs": [
    {
     "name": "stderr",
     "output_type": "stream",
     "text": [
      "\u001b[38;20m[INFO] Environment: MultiGoalWrapped\u001b[0m\n",
      "\u001b[38;20m[INFO] MetaDrive version: 0.4.2.3\u001b[0m\n",
      "\u001b[38;20m[INFO] Sensors: [lidar: Lidar(), side_detector: SideDetector(), lane_line_detector: LaneLineDetector()]\u001b[0m\n",
      "\u001b[38;20m[INFO] Render Mode: none\u001b[0m\n",
      "\u001b[38;20m[INFO] Horizon (Max steps per agent): 500\u001b[0m\n"
     ]
    }
   ],
   "source": [
    "\n",
    "\n",
    "env_config = dict(\n",
    "    use_render=render,\n",
    "    manual_control=False,\n",
    "    vehicle_config=dict(show_lidar=False, show_navi_mark=True, show_line_to_navi_mark=True,\n",
    "                        show_line_to_dest=True, show_dest_mark=True),\n",
    "    horizon=500,  # to speed up training\n",
    "\n",
    "    traffic_density=0.06,\n",
    "    \n",
    "    use_multigoal_intersection=True,  # Set to False if want to use the same observation but with original PG scenarios.\n",
    "    out_of_route_done=False,\n",
    "\n",
    "    num_scenarios=num_scenarios,\n",
    "    start_seed=start_seed,\n",
    "    accident_prob=0.8,\n",
    "    crash_vehicle_done=False,\n",
    "    crash_object_done=False,\n",
    ")\n",
    "\n",
    "wrapped = create_gym_wrapper(MultiGoalWrapped)\n",
    "\n",
    "env = wrapped(env_config)\n"
   ]
  },
  {
   "cell_type": "code",
   "execution_count": 3,
   "id": "ae2abe78-f3e3-40b9-88dd-a958fc932363",
   "metadata": {},
   "outputs": [
    {
     "name": "stderr",
     "output_type": "stream",
     "text": [
      "\u001b[38;20m[INFO] Assets version: 0.4.2.3\u001b[0m\n",
      "\u001b[38;20m[INFO] Known Pipes: glxGraphicsPipe\u001b[0m\n",
      "\u001b[38;20m[INFO] Start Scenario Index: 100, Num Scenarios : 1000\u001b[0m\n",
      "\u001b[33;20m[WARNING] env.vehicle will be deprecated soon. Use env.agent instead (base_env.py:731)\u001b[0m\n",
      "\u001b[38;20m[INFO] Episode ended! Scenario Index: 606 Reason: arrive_dest.\u001b[0m\n"
     ]
    }
   ],
   "source": [
    "frames = []\n",
    "\n",
    "env.reset()\n",
    "while True:\n",
    "    action = [0, 1]\n",
    "    o, r, d, i = env.step(action)\n",
    "    frame = env.render(mode=\"topdown\")\n",
    "    frames.append(frame)\n",
    "    if d:\n",
    "        break"
   ]
  },
  {
   "cell_type": "code",
   "execution_count": 4,
   "id": "40ac0392-67e3-4d2d-a9bd-2065831e43ca",
   "metadata": {},
   "outputs": [
    {
     "name": "stdout",
     "output_type": "stream",
     "text": [
      "Output at final step:\n",
      "\tacceleration: 1.000\n",
      "\tarrive_dest: 1.000\n",
      "\tarrive_dest/goals/default: 1.000\n",
      "\tarrive_dest/goals/go_straight: 1.000\n",
      "\tarrive_dest/goals/left_turn: 0.000\n",
      "\tarrive_dest/goals/right_turn: 0.000\n",
      "\tarrive_dest/goals/u_turn: 0.000\n",
      "\tcost: 0.000\n",
      "\tcrash: 0.000\n",
      "\tcrash_building: 0.000\n",
      "\tcrash_human: 0.000\n",
      "\tcrash_object: 0.000\n",
      "\tcrash_sidewalk: 0.000\n",
      "\tcrash_vehicle: 0.000\n",
      "\tcurrent_goal: go_straight\n",
      "\tenv_seed: 606.000\n",
      "\tepisode_energy: 6.986\n",
      "\tepisode_length: 88.000\n",
      "\tepisode_reward: 35.834\n",
      "\tmax_step: 0.000\n",
      "\tnavigation_command: right\n",
      "\tnavigation_forward: 0.000\n",
      "\tnavigation_left: 0.000\n",
      "\tnavigation_right: 1.000\n",
      "\tout_of_road: 0.000\n",
      "\tovertake_vehicle_num: 0.000\n",
      "\tpolicy: EnvInputPolicy\n",
      "\treward/default_reward: -10.000\n",
      "\treward/goals/default: 12.335\n",
      "\treward/goals/go_straight: 12.335\n",
      "\treward/goals/left_turn: -10.000\n",
      "\treward/goals/right_turn: -10.000\n",
      "\treward/goals/u_turn: -10.000\n",
      "\troute_completion: 0.969\n",
      "\troute_completion/goals/default: 0.969\n",
      "\troute_completion/goals/go_straight: 0.969\n",
      "\troute_completion/goals/left_turn: 0.632\n",
      "\troute_completion/goals/right_turn: 0.643\n",
      "\troute_completion/goals/u_turn: 0.552\n",
      "\tsteering: 0.000\n",
      "\tstep_energy: 0.162\n",
      "\tvelocity: 22.313\n"
     ]
    }
   ],
   "source": [
    "print(\"Output at final step:\")\n",
    "\n",
    "i = {k: i[k] for k in sorted(i.keys())}\n",
    "for k, v in i.items():\n",
    "    if isinstance(v, str):\n",
    "        s = v\n",
    "    elif np.iterable(v):\n",
    "        continue\n",
    "    else:\n",
    "        s = \"{:.3f}\".format(v)\n",
    "    print(\"\\t{}: {}\".format(k, s))"
   ]
  },
  {
   "cell_type": "code",
   "execution_count": 5,
   "id": "dc986e4e-f81c-4882-88b2-9eb306552fb3",
   "metadata": {},
   "outputs": [
    {
     "data": {
      "text/html": [
       "<table class=\"show_videos\" style=\"border-spacing:0px;\"><tr><td style=\"padding:1px;\"><video controls width=\"800\" height=\"800\" style=\"object-fit:cover;\" loop autoplay muted>\n",
       "      <source src=\"data:video/mp4;base64,AAAAIGZ0eXBpc29tAAACAGlzb21pc28yYXZjMW1wNDEAAAAIZnJlZQAATSVtZGF0AAACgAYF//983EXpvebZSLeWLNgg2SPu73gyNjQgLSBjb3JlIDE2MyByMzA2MCA1ZGI2YWE2IC0gSC4yNjQvTVBFRy00IEFWQyBjb2RlYyAtIENvcHlsZWZ0IDIwMDMtMjAyMSAtIGh0dHA6Ly93d3cudmlkZW9sYW4ub3JnL3gyNjQuaHRtbCAtIG9wdGlvbnM6IGNhYmFjPTEgcmVmPTMgZGVibG9jaz0xOjA6MCBhbmFseXNlPTB4MzoweDExMyBtZT1oZXggc3VibWU9NyBwc3k9MSBwc3lfcmQ9MS4wMDowLjAwIG1peGVkX3JlZj0xIG1lX3JhbmdlPTE2IGNocm9tYV9tZT0xIHRyZWxsaXM9MSA4eDhkY3Q9MSBjcW09MCBkZWFkem9uZT0yMSwxMSBmYXN0X3Bza2lwPTEgY2hyb21hX3FwX29mZnNldD0tMiB0aHJlYWRzPTI1IGxvb2thaGVhZF90aHJlYWRzPTQgc2xpY2VkX3RocmVhZHM9MCBucj0wIGRlY2ltYXRlPTEgaW50ZXJsYWNlZD0wIGJsdXJheV9jb21wYXQ9MCBjb25zdHJhaW5lZF9pbnRyYT0wIGJmcmFtZXM9MyBiX3B5cmFtaWQ9MiBiX2FkYXB0PTEgYl9iaWFzPTAgZGlyZWN0PTEgd2VpZ2h0Yj0xIG9wZW5fZ29wPTAgd2VpZ2h0cD0yIGtleWludD0yNTAga2V5aW50X21pbj0yNSBzY2VuZWN1dD00MCBpbnRyYV9yZWZyZXNoPTAgcmM9Y3FwIG1idHJlZT0wIHFwPTI4IGlwX3JhdGlvPTEuNDAgcGJfcmF0aW89MS4zMCBhcT0wAIAAAAi9ZYiEAP/+yk+BS4nRcKlkWAf0mOgGDRLzYAAAAwAAAwAAAwB1Fb9qcind7sAAAAMAY8AhYDJAYAERFCwCfAi/AR2QySWqUXhfvc8gyfMAYxAtAfiz7JcGWCnojjmIHmuA9FHKUi+Tj/kQQnc3ISp8kelx6w7v/Sn2esqLUi4lFJBdPj+PypSi25IMIUijQH0ihBE4RY6EF3BVFAZBwGYUByaAi/gyWZcW/6vQORqGZrayPVHH5T1ikS4WHq+FTqwsRYeip+evpF5aOfugobv/GJqiQi+fPNw82AeTa35fGNOCZI4llhmbIUN+gHds5JawLzLFE0MiTEkmYzszaTKP8udjFByFwxt1o0Kq1q2The/+H2EcQhn2CIrFaLxbOKJSTjoteg7fynPXRhYGu6ycBV5iIoPcmGu0qMh1vUzzfDie/TfPfspsaPVTdpRhimxdTOErn9Lr2vi+AUA4JYPKabC8BfiPTf5DrakGb9/oY8uFQp87MWLxpRjoazT3RHSRWjfHVd/d57fEZBNSu04RYTB1pHEj/cTZXCkVKUR7UVWJ86vTg+hz9ixhmJiqSAbNUKq19WGrui0RMAvRCdEDN9RWYeQgXU56J/oAYfl8ou6ObB+nVfb2Ez8SEJFkzazdup1lvqYFDWEvhLIL/kbh4Hrj69qLdHliff3LIoBxGb0xX7t+hzWWHStLHL5UNyJTpgBmjar/4kY07LMo+w7blnPTbUQgALryGcLDKeMi8p2hQazJCOfiCpUb48gsKRxQf48xFna4J+NzhKbjXOl2HxyvOM59XUXQayx95kn2n01wJ8hyFLharbvhDHmXMfv+yBLh8Zi+hDhu7XBUDA2+DO7qiVYu6/2dz4+ob9FSeSBHwfFrsZjofJLI5tVm/PQsDhJykLfqW43XRFy5wQKPH3Ya/KLS7I+J1jFgNCjnZzu0vXZCxkZsDS/5/vEbkp2gcgXCl2PDVhvvz4UzCcubt6yUi5XtR00hL/LEPpzn01Wayr9Uktzqv7fyPh4Z03uztv//kzJEuSrOcUmWHGH0x8zLS9oI+JEtLjX/ja0Qyx2uaivWckN+Y02Dk3vtPERAn7HHZZ4Wn9u7pQcufN4N19lSQFHyPxv56fENCEMCj3JzIb9deCpFPjYAAFaKDyfoewvbI0XQoXb8xScvtflvdJrFjz2lbGE54kPIhmeFtiHlvx6GRxH65/VTPVr8f2UxtZ6Ci2j7UxwMwmvJ8PCdOTK7TCEv5J8u6Y+beoWhQJ06kBDTjfdgEz94S0Hog6ULVORVSYrIf1nIFSJ23c06jJ7YirxV62gR2jULUyi2T8+L7aYGF61ZVFJP6KKG1rQTSh68PEJ7W7gV/SoHRhNL6qUJOHRhNUMPwqjugWTkNOiwZEXvBoxXTu5UqNr6V8F6HIEQUf1tXdHrHVWWGnEz8Oq0EwNaajX6x2sr6llej8FNpY5Q+MB9a4iPiLKt8EYOHLEiOzvb/sZQdG+bTm6ysVDp9jjScQKjm+yKO3zD2MNyzkWdcrabR7sRchjCuph4AADxjLoXnbX8gPHtYByAgpT6dLVfRqNeV4y023W5cLyszdzwc6n2KCO+mDbWQmMNzBRuoz7scXNqrStJvBF9wLC9HcYBTZ9i4UFWXq25gAa6Ob3a5lx5K+6HYfcpHZfa3uDsWJWj0tnqJVBcjxx/3eoa95PeXw+n8MtWBFPmPdCUIyUmF/zyLx4YPB/8wUEHc/g4wN2qSgveeXdx8zG47PhfFhLoUe0AFaRuaoQRrpdJVdrAwKrTDEuPeQrCCIjfEHo/BGroqNYRKYyox92RXpGorxNnW2RocCnizQE1Md8crWrZsilsEF8bH+laa+coGywib8hv1fe3e3ELgvExifD9qWu7IZkPprSm3r0GGO902HE5Jl92jfA4A9M9hJ58GTDicNC+SS+/cu60IS06UPIMeEdZvIXGKTSDisfIqd+DgyBpruxyLcAVlG6bjOImKz2ZLASyAYJi+q2wktJgH1VA9nwrdExBB6w++Z/GQHtYw4sb+2pBJ4cMSS7lc2K9RkUkKfXAkBfn/uwyUSw2bRu0P4ln4Uw0HcCrUwo60vzqD5xHOiAF54KLvprFhVp96SieuMsJhPs0HgQWkSPmtLJciJxpXhJ8nQ91q2Vigtvkk7fW3hWuXUjDA4Cr0F7OzTSp8v/glL/UEfj28CPl5lC47qa+nFXW/64in4yYDvwu8fVIQAsoG+0Ymk+BNuO4u49d8dT9ps1YaxGB80ymjlb8mOAAAAnc0nNrXa2oixsnNP2xIRG3QAYqpHg8Uu26gI/Ko3RZZCKIrIm9CQSyDsv2iCzEVH+SI5i6x+YiN2Ea7NmTcMPM9J0RaorDu82unT0FC3+vtm1bBs42AvxP7m1Y+JLunuzvZcWfZTGI3a8lR6Sx9zUkHC8p8aLMmtjaNvo0wWF/5OOOoFvENI9qAC4RY3iwVZbemeXnVbRNF/LwKV9pWM3gibb8/Bbb86gdIz+QqISkzPXPLZyf+m45sIgtJrG/BBD1TiXrulojK9d7zhqKT+yYsRnWeqnjCu5J0VxIn2nq4K9rDeEEu4PeqhTHTO2o67dkMshlXUjX06B+htnwGyuCCjMyta+jjiRsXJapSpL2dQDIHkVrMX0kG8Z/BeFEqEFrYUbG+CiicYn3+WYd0YkRm5FrQmdzsc5VOCN1BJSpSzNX5KBMjS9mLlp4W779jlsT43oe1pNvw3xiPbouDPl0dOuJJ8I//wndo29t9be1AsAaHH3LnvhE2cSFPGZZj2DSAo71lKLdCx1YRz4Nan1aVXQzufaJa0UM1qeV75hoA7qkAGb16tbkFASAB1X4AxUEAt94BECABeHAC7yAGOIAPmoAtzADO/fetvSX8SOLSRi9b1DCwYpRQyUpznAOAOqWZX9FYvL4Fq9P1ZDLPiUe8TTCUJdwuKJiCNMvRQEXl9poAbyDv0AAAAMAAAMAAAMAAAMA9YEAAAC9QZokbH8AAA0UzfC8ApnvnSVUl25XYjmmeuftqAYjKGOjD1bwnWb8ylXLg3UqjDGOivloXhIk8mIISZGr6p0S1B4//5fEvRTv7+bIkZZoOvdTdpt+VOkdn943+hc692pQQU5b0IbBSodxHSeGWI39F8lbUupveHtvMSEFH+qVzkKIY8fdoP4lpP2MtFgoh0szHFbtlu4i1IjlvlrsXa6LrT1lmRlyHZ/W32PuGMIxigWQMfKQJHuRE9uEN7VAAAABJ0GeQnivAAPZFrw2BSz/q0kZ+Jhvjr9N6Z4vNHHWxHXeOkarItb8SKWWKGnXSMA8C4iiMvBuOjIFkgdYAln4bxTSvrq3WHSr2TMj3oR25oF9odBlHTgxI+vundzII0C44r7CmvqvQwrMDWOLOzSTkpRV0nqLmRSO4Ls1O+uog1psNKdVk1/CrtHV+onA73Nzw0zkFNUqhIFjjqtTJaFx/0RYzI0zCuC6czh/HwtkfJVk1TMSR8WqchPjIHH47SAAARCfKW80Cbvar7aYcQLGjbTd3rrwYOM72ovRWPKyKrWAoaw+AcUnVal3w1zC889Za6YL4zdi8yDwRXH74bQkawdyZOe7Be/aoOuXPF56sL4nLjpZFJaf9NdR+xgM+6hM5PLThzLbAasAAABIAZ5hdEn/AAQQ6iBLxBW/r6IWmPkbxPtHnL03haJVNOfS60bgnpBgAEP/hMOngl/4jgGvc/swSL/5gaFcAAU/49d0ZhiEAGBAAAAARwGeY2pJ/wAEEMbXuTOFFNTYZdiHYDjDQHWienH77wfwmRrCSbXR/gAN2PmJVRqGbBV62vNEpqH7UtuAqsrKPxzqi/7j7gJvAAAA0UGaaEmoQWiZTA//AAANDNhMJv1unM6h7PlEGqRVzTMJHyn6VIQUllN9OvnxXejCDRN9W1qBmK3uLYv8SI5Of/H9CySfUr3KYDMtGunymmnn2K81VIstrqwAAAMAEyeYFRfTAtbBvmWrDqebTBC0Y2pRsOQOS2DsfxpYnb1LDq7g66Pm9Uus6If0ZizEmub8A0et9y1s8lKahOF0Okcry94Fyqv1n2ofwVCV1WY7SmCx1W8RQNQtoIauUkBUN/va5zAcMZzw+jUA9EwI6lZXwfzBAAAAqUGehkURLX8AA96Vg8Nd60e2vx5FXXskSulT61f5T3/LYTsiioHKIUEcfWtxMbljKWpUFvb9QOZh0TusmuelV8SGulz2scJLmFe5XAAA2ABvwMqe5iEv1kdIz9BExv9Kn8TucXOMX736rSejyT1ti4huRjiNLcmUmKDeQtgN4j8Ml+bCFtG7TFU99l8YoNC6PYxUR9SJADBc9fb88QUBrs9XMg6xhjAAasEAAABQAZ6ldEn/AAQQrO/5ypBgpZ0WyEGjmzI73tsB+VmHFZwKFHN/R2Ex31G2jQ3tPnKMAAAzXU8s8V7GaPd38puWZkqBQaxE2mE/cMT2yDnAEfEAAAB/AZ6nakn/AAQL6dVyDeqPO/SGUrxJ8SfqN6HJaEI0MpqaCDCyV1WYDQexpPo7fq1rMwvNMPSnede8OTSC+FuhdKCsm6WqtQfdM3BPH2wXTX0JGAYZCQDrU8jELsC/tgpLnGl+1gX04PPTHXQaIVgUachjSV6Bnuh9krdmGMANSAAAALlBmqxJqEFsmUwP/wAADQ0paWjChCKYxvTqYjQCHjisA86217LdI9JlAHCCJj9mLwHKtAs3tMWn1H9iHQASAlR/3xld1QwLMPZDLdykj/6SCZIw2kcS8iWVHooRjMaJQQKRQ1CD04ZVbrBz7IUH3symC7DhmpoPUIG6bfA/MsQZrKqdM9T2TgQgjmtCKtaVJcPAM3Pp7+EPHy/DWhPcnPt+AFe38206fwnY1xS0fk3tybJlT4plIYmc7AAAAMJBnspFFS1/AAPYLEU2pX3P+w0bXGPjjnA4OxynlCDn94nuChYPYJEJoC9Owv/dEHXEi16P9a5W8l6Qx4ISsq9N90gyZWUeQDZzs1OLxKf7/KnzxCMJqQ1gepfwQ4uHe6Vg18jT7QcQNN+PNt7PKi9wFFL2E5WRIveAkfvLVR5qbbsDVLZXvuig0LHcHpSvPYqgACD5/0lEXGpE2Q8CdJ5Rn35BXmKHewv2wBN5O8ajQR++ypZlK0xL9VsAI4V52ABbQQAAAIcBnul0Sf8ABBUCILkOr4iko9/SJ15CIdscwHVdMWSlpSuzyrX2T2nWUjVTKX5ZWGH+qgWFdsIesp7Y07Sq3JHnk3BHAAADAAARhNC5M+9FestREE4tTa1oAAADAEcyZTlfSrzL1ePi72RjgEpyWog4dxr2iqouzLczZXyVG1jidky2MW/+DagAAABsAZ7rakn/AAQLKmaEPBB6Or+ajpxsfz/5Xo4ItvegaD7qgiUturLOZ38haHb/XGm8IM+4syMJ7FHplT43cUEii6nVnf5DABt3wAwfO1zn34dcAM/rxqoBgXi06dMlzMKp2bcgZmRNZ5gqSA+YAAAA6UGa8EmoQWyZTA//AAANXXQFOfvosqSpqKRpIAPzTAHnigVErCkWgzWAjaBDqky0Zd/sZkT+IiKp/Pe+DKpYEv6trhq6Pw3BAIE+giBFrGPtQr4Vyb2x3jYWjCjDKrwybesS0BrFD57tZnbUWTnLPd+7qGH/ElhIBOy1gtvS/z0uIyhZDJ9RMGOUHgovXUzYLzG6IB8UBR/lrIquMuZKo4VVDBfWBaTfNABRITb8Kosh47ca/CJXp9TRf/wO4Xe4yLptPSNRaM+rEY2/goj82AOHazbE8x3enZj2m+FkFslZdNl6Vtr/Bg9BAAAAf0GfDkUVLX8AA/Q7uPnE0Su2xDFzk1t4AyKTmGWJ6MFOpdRiY5nfSXSEewxKKbT0IbE8jLyXnG9jcCbcbhefzVVuCb53Ha/rDUYBG8yZLtIqC0cm9qtgy7xvggAnQarY7XjOngZivk2QqAAGaOuSzzqwIZjyXQpwVlbFAAoAd0EAAABlAZ8tdEn/AAQpS9h0szlLEoUe8LoMKQqhjn6w0RGT0GjiKtGtmUd9LZAQ0a8Isdb3aoPTzsCt6ZpOlWAU9GeAQ2IrGAuKW+6KbfomoBQR/35MAJXGpFUCK9SOeShsYlN77VMgBaUAAAC6AZ8vakn/AAQrK+9YirpoVEJuoSD73blkEYqHNxzRXHi1ty9VJpZjQX+Rkp2YBy/YkRmoRYlW0KMJKAiKoh8ldQFXEw7lVqB5xfU3yuqvvgAmHQ9qZdsBjDMQESmAdR+bwBwV8ILnctetz54p44bmGE2jqAWy4yRGC8X9BaMnFMTBuaOgRIv1kfYAABXCHkbPEAGT+6ZuTXQQsTZQw9hu0tCysN1LMV1kz6xh+Z5VTUt2vpDHhSkzEAIOAAAAlEGbMkmoQWyZTBRP/wAADV0paW6ptUMqD9/yD3CYvVc8FO2/Xy6gTKh9etvZVu2KTiq8oI1umC4jvoNFG9D4gBG0bkF4yyn05MBRdjr2aVqrAvmmjkKw76L6DYsGnlPKBQOgxfDOAKjJFE89nGg+vqi2FIBb3CHsVkmIBDLz+MbeUeSUYvOaMLMGdJyqcyQ8rAYGBmQAAABjAZ9Rakn/AAQqPbkx+SLA0F5usMXFiC9qXnwQaP+mc9gqbK8inoKW3g+fmLddgQvsGMU8AmugMEUv5owhPvPZ72KwnxbDhIaBfs+JfOBeCmwGZla5/yoWrDaOckAAAAMAACyhAAAAckGbVEnhClJlMFL/AAANrSlpaMJfoluaxqGGakfd4oDCnvfhKul06XioW9hhfI1zFJgL4COVhsgdg6LGUcvx//QtMUc4+jQ2HmdkYPgDi0f8CRP0YZpc3oeBY6Z3LifKY9w5H3ICFb2cMCWmVqr8pfBnQAAAAHIBn3NqSf8ABFDdUH6pFqNAnLFhSGywkn175LEyCmK6f41VMUkfbd2JLSS+RMYx1DBvqbzeB4Ec6etRf2gXhBp2/6Gve40QQeYDQzNZtR4/LrO8MCLF2An5ljLpM5zEt1jhB2zCZdmLGg8TaCJtt0ewAg4AAACTQZt2SeEOiZTBRP8AAA2tKmM7fB6StbQb74W3CYH51/9t1DVHuioFfdM7CbQ3XB6aeyDDJ8+ppBp094WTvw3ADbaUhThQqiyRsarv92vS38WmZ3y6PgsiwfwlZsQqQ3vXEq+vAafLZxUczAimoySU8m8p45Ddswgp8nXBdg1KilMpylXJn7qiCeg3jkMUnWqSKFJRAAAAXgGflWpJ/wAESj25kRyqReF6+yf2dgcGPCyFMv5g2bWwwGrsJu2EUkS6KRlWjSQU29KSbAu4HQPwK288kJiCnNrJraeAsd2A5o2Yx8//pF/sFmAA+UrYQAAAAwAABWwAAABvQZuXSeEPJlMD/wAADazVmwoASo0NZtLh6wfBwfG4Z32tcWki3w4yBLq4qkafJZz+Hv1h0UnnAxkaKMa3GqFXWV5+ETZ7a8OxTaFtT42XBuPSxHBtzFlZphb2L+5ZxiDniEr4saOkmr0ytPGrr4K/AAAAjUGbuUnhDyZTBRE//wAADf5ZpEOlZN84zoH+MS4fuaC8f0qyjw+Qq5F8a2JIysnWWDGYyvnAB02E5enN9Qko9rfjrKxzx5qvYoFK+xJeuAY+YTrg5YbNoMkNJBqrYguhm/NXRt72zeRRowBP+6BqOUuxQ5rRwX0tQV1778ASzD7KFDK4kiVLl/6N/SFR1wAAAHABn9hqSf8ABGqEQ7QfhvjNFOpHBI27POx3Ekf8m/CqRgC7pkaigIGVeNIXVJEDeYyrjxetmlO8eMIOxZqvIHZhK2z9kUBijkRxjdtZbF5AfiAjIyzzhh2gqBcABaElYXKSf9W6WWZ5ddCIAAADAAYMAAAAZEGb2knhDyZTA/8AAA392oDqRGSbdFt4A+nn9jA3vcwKXTfGFJFBXxU8QzCXOxzrZ+fpGHwB3qr12B6b2Hv8MWEhrXV58SzTwcY3IdtFljnx1OZN11tIRkBwiZ6wF6N2ncv8GrUAAABvQZv7SeEPJlMD/wAADf3V//bm8g0NZtLh6wfCHiWKcldM6gfgIm40G9e1cDEnU5JCAxOeEmQltsjweLaywrNlJlks/70nwXLXLWMc0YkcOtroTvSsG8kzTQt6Bm3C+lNS0YsnADUekktgvUL+DmRRAAAA10GaHUnhDyZTBRE//wAADlaMGdxd0bHOEb6tdZ5GgBV0lj7zGGJuUesHyPcCUu52AbyvvXek+7Qhc3vTg0BeCYzOEsoPoOderwKVdl4dCmDjvrYBlkrkOUWw7p4UA7+TYSTysSNn6yF9TpWwFZVFC+Ocds6FtVFtqSThrVjoEoyP6ORLWucXded7Jz30wmpCG/eQ8AGXN+Rn847J+dt+mSfE4AofDv/8xnqRmcHEXtm3j43mifbT59gGIDxPfzCcryi2LbADg88V/fC7tsXPlSwa6Jy/8hKNAAAAngGePGpJ/wAEioYg+7vkTceK7iqa3/2puF3KtJaDl3arpmrBeRxpQA4FwdfZh6/DMbN7k8QAB9QB1Oub93wWmx7iRpE8V+uNBRYgwyewA2Q+cAb/+9vhzQAfJVsqQk1ikryOnUN/EKpgjq+lspenKiPoJSXlcZLTaOiuKsKXPYjLRHLXKg3s2cEu3sCg/rPYpoKK2UhfUt8lEpQhAANTAAAAf0GaPknhDyZTA/8AAA5WE2H7hsvINDWbS4esHwaA++Mq+Zv2mMhoMk0MVPH464Rd7gCWdSGWTTcChP9xYFZuvyEhYsrnQZbcFx22DBukzikmjq+xgMIEP0KO/6EJwfo89hyGyMyN8wXJ45CTSKZrEQB9x/v7lyKtAzdPfVm4PYoAAACBQZpfSeEPJlMD/wAADlXV//bm8g0NZtLh6wfBwYSgpN6zJcJlk40f0VRP96Oua1d7YwldG/2GsUR4OYtQ/qxIljMjXuQt6RPqChlwVosEZbMUfY2r1gzKU8DOHJfloXEn7mFizEXyKVh39Ixz8nn22AEYeOmgBYQTQ+BMnLLWDxnQAAAAoEGaYUnhDyZTBRE//wAADq6VKInrAykrpAMnfC24TA/Ov/tuoao90VAr6kvLFuhBpQUvifjSK3T/YTPfHfb0yLnfwUUSb1812tyNJnQqti/AN5AknTlyKXu5ZB4+JoC2fX4piTLWtX3XCkQYKZ7AcKw6sbeOkia2CMUNZcQO+MNObbHhW4cSi1FF3HkoSeDqsUL/Iev55NIe1FzZESAnVUEAAAFQAZ6Aakn/AASqnPcK8HYdOnmhU66WhkkMiE/rJhi5SBjfItQho3pqEB2E9c/2WVHBGXjDurrvgG0pQHcFJsFYxtZjWGiLERkJYaXq2BAd7Qna8C1uzEUancar7Wpyi72ZMUnqC8oPxsUBmIX1MoykIK90SG0x2K37Rp+IFoKP2pw9X+lZIbIZ8vAx09hFMkFTbq07Lcmzuu8S7jCDsU3qa9uOZNCsl08WtLionVdz+MQso+Wb+kfIFrzToK56hlEN2Wf+hlP0fIHMQXip0g8/JQYPGdX9+4u+qht+BntBD7RGFmidjP+5TgDuM7ZgE0Xf3FbgyZGiTgm+vrZNate+hK5z3IrqVJ8VOIBiyxCuWNioOy5Tdhj91yk65pctw2eMhzU8+tM1zLOmdsp/uBDwdJ22olMRXlPA0TyYmgsJwieduO+qIeP36ym7zkFIxAHdAAAA0EGagknhDyZTA/8AAA6uE2INQcYhRX9s45UuXyuBxzBepGByhJXKVku6tg3OVmPHnlx4++WWDn2CQG7KDT7Tqowxxpx/V3bsnREfs/WaAgZsNOztlpi+H4zN/GIBpXSISUa4HggZ/0+YVeqwkAO5FLaa7vp2UIQ7DavI1J0/UqTDmxJRg3k7qCatKvwQnBLrWPJFzJI/IAGn2Zaxnt5KGk17O72Tk9g7/DWTG3Pf5VbIEZnY003AB6aMWYnkq4ql91XO89NLMVRt2rhJa4N6LxkAAAB5QZqjSeEPJlMD/wAADwY2gx+WCQIQlj/RaWVmTlqiDt+zFlo1qdLxULvAy0OWqBddNX+BeR251TnX8iY2F0U7Vs5/XOfxNd5mPNV8OQfr4zXPF4m0KoiOpDXDXKG32Dtwo8G7lyRCq4uVQ60FLB8hGUgmpqFe9J2VgAAAAJVBmsRJ4Q8mUwP/AAAPBhSBF5GEKnZlh1svcC423CdOy792XbJMStB5HEDQv/6oaW0+zDnesMnGploXFuMegnBVl55zNgukl3439fEym/Jzlx+0sxiKPNP7kn+VJX0QGWraRXeqBs6VPsh0rVCbXdUcICmU+mt9boRhRDlZd7saWfS+5maTlgNusUjk1R1swrkrLYzZwQAAAH5BmuVJ4Q8mUwP/AAAPBjaDH5YbyDQ1m0uHrB8IeJb5LspC2XqceT3K69q4OqJ/4ipL0nuKmP8/mrYwxu8XNoAWEhTl65Yq/M5dRJVBLi6lvDzHhcCc4hCpJFCsHiYLy+tZrBLtHqQoza4t7yxHTzGujawXCFHxJx6aAEE0RtUAAAChQZsHSeEPJlMFET//AAAPXqZyF/4QB+XWqgf4xLh+5oLx/SrKPD5CrkXxrYkpbFGGp5IBMoPdqszY6hvpBY3rTE9kdfG0epydlIOXOvBGjPGn7loNvFGqHoIwvUEYXgZcu9QcLABlv7gzTy8JiNLUegeFKHPbV1vb4CDjRNrEsaWRpouEEOrd3Br1iU20h2f3VlAP8/U7JWsL/NazN0/+tTEAAAB9AZ8makn/AATrZOnWZcqkXhevsn9nYHBjwsh1jCvYzKDSIzRU8okBDAyjwDbm+Oomn5UwmPqIwl5Ve4B8nCrGs0zYuGye/zYQbbMcR9Epv5n42s3pQd3hxXIc5ER3M3J2YJYCnWkrIai56VY+8oguoeMc9ckT3gAAAwAABoUAAACGQZsoSeEPJlMD/wAAD7Y3xnJ3azbLbXtvAH08/rsvZEt4/p7vfOVpU8VX2wfR1GQpKL5Eiakp4FgdYahp1YQAlVfvRytV8+O2m/KNiVL9fsHwxSHKo1INQi5ANYU/TcI1ltFZtc8HrNFDj4YONNpJ8BZ3ZHaSPKKuhzR5t0GKbJtEcvO5JHAAAAEKQZtLSeEPJlMD/wAAEG7dKmVGYv//5fSe6PjUkqAcE8hX2q84y5JU9TrSEk1Bjo2Az8tTeBAIsr1YXevdp2XdnVPMrp5ggIbOaOJSTxfm+hjmoSUyDzrC2oS2npOOabzAtLy4BYUat61EALE073gnZVS0OKKrW4SZhmHVByp9+XBR8mAuxZNv7rZT0OB1xZPADHq3tChFsCE61PNfMxULjiFG+4pU8WxEIC5VuuVdgtjp4ziDo8eLbtxVPM6nemGTKWqOl/7rqXt3baPmBZlcoXFaxqKAIzER8FxB95KnjM6lKBmTg57E5jC37/ps0HP5dyvXS8hn2TxJUpw3yjvhT74TRAOpxMP3lIAAAACKQZ9pRRE9fwAE8eRhiIw8jqQvHdOSqsnqMr0e2MhJVZleNZ+l7E4LYpF+hYMPFq9uh0yfUFq2oK2o+GZaAL7tYMtuHf1beliiY1SGnXRxDsgBhhalS1hZpPovC1wvW5YPy/z7xe/2+udWPWuKmVKEBmgpoWWPkPK0I/CsxFHJnemCEWgAAAMAAB3RAAAAeQGfimpJ/wAFOp9LL1hftbgk/UMtdWYKuTpMXzhuQEvQ5mUeqA/3T4SmX+PB7O+hdFj9Sjq2exUCIrsXu2tKt+eIqYc0GzzBIY/HdI3zir193qgh3hrTpNdDLJOcRJcFzAxnvUNHnj9wo2Gr5mCK2KZ2QAAAAwAAS8AAAAClQZuMSahBaJlMD/8AABBAGhLS2r9JVSSRPSXLWSGVViC3l9RO8BgwUoVBzdwp9ptOHkzs2nO4CBJrqEYtHRbXD/4LBo9bDQx8BmTYPNcWVQDjQFnILuv2IfgAJ4X25ZgBjpVymbhbYpkxEspxBIjUQzop1T/x/k6bwVc9b4RHwzMAAAMD4kO3ns1dhBAm77YxpXnv42OU/uypDC+BzGeUyJv4FIJ4AAAArkGbrknhClJlMFES/wAAEKQc4MdpRpaSvSoH9cS4euZ88gNV+bJhxUwLc1qyS9tGC/p70pzh/zAUdLBhVXSmlts1FEGGqmRd41feq54vAesmSwjI7VZx3Y+PqGyGBteQDyLTy4rWCiGD+uY3shEoByhcFJUcokXom8hDASCoiYwSiSQxbwAKYNvh61YEW0+u5Rp3aoA8jm6hbRviDhiE+5KwCL1TGm87zlAr20RKnwAAAU0Bn81qSf8ABVd5apAc6lotMtO25JtCudonO1V9sg2VrTAUQCCJfDnYX6YQY0ezJWXcXN2JgVLqYPTkwCFuwyOkQkEHD3xHGc5IH8voWDlWzQNiPaijqsvjDA1gG6pYOULSIYDXruQBEPHpv0F+hOw8gtI3kNSjTaDmxQqC29CpBZkuuLR3h2vISPAOHOskniqpS8zT/sgU+LYMKXhG7DepLN1nPWdMKN5IeyUmCL5QxZEnjii6kAqX+x5FS3D1FSE/V6Cx2+x6NQvcY4omfHseZvwkUJbKxf1Q5Acyi+FdF68ErSvtEoiup3mPcM1qDExOaZhuTxEH+7dpTGeRkGmylr2/PjARcW2HpurElRPIxCpwE4M8PVobq+y4QKncx0FzvsYVVB9UDCt+Fyn09CYsxRSgcHRGCYMM+BXEfNcPqufQY63bNK9/f/4AU0EAAACrQZvPSeEOiZTA/wAAEKOxkJol1px64MRSJuMzYxpiezMDVTJEQSoqJsYcG1J2j1F83Z1Jn8RfGEiYIq+1dYndprENNAa+jpYYnyCoLcgvR95TpvLzzS8Drn6qfKtIEU+0jx6GV5k52Z+3z5zumGpzxGJh7iK+PlxnCk2GL+2Kcr+uSsnQD+YS62Mhimd+m4BYuatChLfU+Sf3lxFj2G6TMWkjlrVtMB12s4LxAAABGkGb8knhDyZTA/8AABHu3VD2BAxf/+oiIeziGoIV4wXVcYCoVDI4H4N2n1QWs/qLUXB2z/gq70pOAa8+c4uOxObj3eUJzJgXwV1vvbaAT/Xq40wWDkvSePiLnFoQ7fjFBQC5tB1I+A/uRDbPhpvSNmkakcuply64NcxxLJ2HmKeGKXhh/2PzW2nGQykOt1Vp6JnhTwwWswJzZZHbv9nkS7K7cS9sMRD/AJvcYt1QSkW1LGNcHKfvmW0gKyb+ZgACDcis6Iu2TbIEvR9/5meL9GBtM01of9W1btxGx+yY1RCROcmeUbIu4ORa1h07L17Tl7V+n5jiC1RG/Tq4EbcIzq3dAKJeG64X+NZTWDCPPx0VChpi5cazjTSTgAAAAJxBnhBFET1/AAVd5JU7/DVh/QKjtHgsr4gMfF/ONJztH69dn5YdWUtMQxpi/FkSkfPDB/WAAA2nLZwoS+kXyBVYcSx4M/47ilFvDxGw2Xg/AZwEcLuMmb3xp0pjiAAjcL9ExVqHk0owsMwS1mWfr5Q0EM4gsQoxf4Sjf7fqbO/PHQWLyV+YcBC2MjPJcGjCD6yIoQvU1bEbq6QAZkAAAACBAZ4xakn/AAWmWO7lF8KKpwe+bJm47pIg3IW+o3xlrm+QHwbUxJZ1aeCEz5WmV0GLzHCQfR1jYfEjz3zrqi8RVR+GMdaNIvE46FHvaPE5m6uv/DU4X13XxTmduCmyv+1XVcEQVarFpWedjA/z4hV/NVFFppcnn4VUwx3gAAADABsxAAAA4EGaM0moQWiZTA//AAAR7t5kCmjiMn/xAXT2cQ1BCvGBazjAVCoZHA/BuuxwFCIGiW/g0BD8zKwik4B74byGdkN1GTFiZBY4KxRgSRxYT9/lsZ+ijD2W4uGN5H2wlYcgZjf5PxYC/o746a3pbBvyFOeLNcaXN85/dwjFdlpqlFsPThJoMnLenwbWXfww4gga33z4XiahcFNWTLeWV3G5uxbE0f07bDrqJMAdyzWMAJESuevWKGWyiOKiRBEIHX7McRVfEjVRWThLpX8+wzZU6hR+A9vRM4xqDHZrKwtMvLjYAAAAqUGaVEnhClJlMD8AABIj2kLa3qUla2g33wtuEwPzr/7bqGqPdFQK+pLyToRBXx8TdJA2h1bLLxbu+ovJ/iDN8VuPq2D61Fu/dM9ZbjT3xdr7gepNaxQx7JmLCzT0YLqdsLOvPXXTlJYxmyhn5L0YUZSxE3viWOPi3AQ8eQv8baozkkm4wSfkquPk5/1ROFU0nJf877RcGBOZo4kkJYfJxXGiY1o96X/vvXAAAACqQZp1SeEOiZTA/wAAEiPY/vcxCMg0NZtLh6wfBwYhfFekvJa6bv1y8zzdQNhC2t9ICRoJ8AIexXicZkF05fpvE7jZwtfC83NHqPD2Ss95JB+PgoxKQYbf/krsmw5xrBmK3AXQZnY//I9M13T4qvTrcJBhkVl9OGkUjJJWGwSwC4cuOGfOBON2sgztrLvBtiN+2d0c3RJOy54zCFK/KTnIOQUe0cS4mDdPP/8AAACxQZqWSeEPJlMD/wAAEqPY/vcxAd84zoH+MS4fuaC8f0qyjw+Qq5F8a2JLJETFf4LQmhKGZl0QQGwyCpXTa2h1qtE4U2dC5mRc8Zafa/P6zocyxqJQ3622d6vuBsS4KS1AQAzISvSHpRR4oezadEFGwR6shAsolfIPDQFSghk71gPDV3/3GpTrL1kzmZ2jdMOdMtym6+Re9M80BNsDGyBy3RyEGZrTwXkQgyTfm5++vjAgAAAA1EGat0nhDyZTA/8AABLu3eymEVKJvlTCeT2hU9FjkZ52HM5Fpj8GsHvoipuFcKmURvXB+bIrYCxobji1zFFbLcOvO3YRpXytzwzT55543upAwauN+anLx9TmMKdxr6yzIE3n+rWHa7KgfcnnfTELkBifjnaffP4on+mLp3SUwcAa2JneaL0HS6RnSz/Fl/wX+mGEtvlcEZjuI/KmNZGdm5TtqbJGvRvumnqJBosbRLXPfZNYgjMcF/ZooyY9ubsFhzADC5t4th01V1O4r4Gk71v9jtsRAAAAzEGa2EnhDyZTA/8AABMj2P8KP0bYJizd+X4MJiakPBFP+fgy9s1GBu/c8wqLjkzaSAoWB18aqCWWjyDbty4t6IfZWLU1DwajJ+7tZ+LOIOdBujetYj74efuHMC+ZA5FdxmrEH/AKxo1deiEbwxq6cbxlrT/JifWM0wFrmokmpyb/5bMGVCm5xhqiXszsftASV1SuDOUwgxf816ra466+t/Ohu8ozKH/avf55XecHpD1tWgjj+pF28zj24dXtms4n0+eJ5kDGacTbw5qK3wAAAOtBmvlJ4Q8mUwP/AAATbt3spk4jJ//b7L7o+NSSrXLQli2fse9ZNeyqgLByLveiUQTmDvSTM0q1Z/faxPfMDsocFcntiHrP72tlJB+0pq+UX85a91rt2QKrt4b1jiFbVbzzaS0AZR39eckNKAH61J0hLnW+CjwCI5/VvoG4FvyV7iyioKl8PaZPmNDhsojbPO88Gt4bnxX7N6JPVJhxBWZmBvRcm6BXu92pb+kv+K7/XFsEPzNK1Tkuvk3wvL/TyBlCrgp2dfK3xLOHv6SyeIuAmvMBHCSpra36v1eyaJt7Ya5pqJm2EJkh4Lh/AAAAtkGbGknhDyZTA/8AABOoauE/BMfpK53vW4Bxv1jfhhIYdyrlBTeJaTUP4EDSpI572UJOyUGEL//jd/TDa25LsPR1HK5x8+qIi82ftnmJILxWasJs9WGzu1oYAeUGCSQjCML89yUSWnwx9Eae4HREopRdMoMsNlNvJsYdBbYr9wRxx2GdfVSumU/A3WwXV33Y6LfB8JuGSVLhsyTtXgGBSXCAVHLHsFNp7u7RCCzhIY4kzU7722bhAAAA2UGbO0nhDyZTA/8AABQ4avMptfDgbhIouquXJeAKxnyNE9S0pNCjCw8uHoIETmDsOQYSlMRUDD3+K+Jgy+LnuM4EbgCWhsBCGTHzLD8rm+pBGFKnsNBWUNIX/rtlhc87GH9AMVt6Y2G/pXDR916zphNQJ3OusCv6uXcfh6HAqe1l3L/EVn3+oLJi3bXAfE6oy7k4RQURIjJs2dMw0iX1PAvp1OuKMehIIrODbueUPkxzl2ZeXYTDsSQsd2oaDlUyefSflAQM8eP/EOl3332GN5XDJ6q0csMPjyYAAADWQZtdSeEPJlMFET//AAAUyLfoQQckj4N5GTqBYJIWAjcAm51jkW4sX0Yakah0cC7uM/iyW1tI/4JD8xbRBPa/M9dAI1V9X/SLlIxNQTUddQXpVrcDgsU4yIfy3ZectXQVLjNVQJ8UE2ARvQe72piVR4w4W2j+WAEiYKmIUktGk0zn03f552oAyDfD1QEb4jpZSQC9M5oyks5BJUPKcTXg6uSg4KPq6VgHJQ7/HR5h0bYV15+A700Peqv9uGEEuF2V5ILb367zKMB6qATj/rEcmox6dOX4gQAAAKEBn3xqSf8ABo/u1fckASdG/uYI6viTzHRV4j0ughCElcNfbRFO47rUyGi/Pkle7N7NupSzBX3MrE9MycV/knGN830G3kkJ3eLejNCQipd99Uc/xNmiI/BnACd1JqrtapvVLC2nzKe5b/JFDUpoRrNths6D6R4oshOtWCDbUtVnze4J5Nm1iAX7ePWHU+VS23+8d0EObT5PNWRbQAAAAwDRgQAAARtBm39J4Q8mUwU//wAAFa6wOwTcwxN8qYTye0K5UCFwIfd5X9thniVFRMtz3WXP0KVAPLgfg9qCqFC/1RX1+VG5UIPkT2oghU+OZf5EfYX08ZxWsMFdYzV0yFReGphDdt6HD2YJDCmxcP2/nwbTpJjk490aKZnWLlPhYsqOBT9LawiAc97PP/B6LqcGvNYx0Op+qZaOeYHuh8ZqGFxvoz88SE0QfySOMyv/QcqOOHHZp/I49I1vwIuv2L6j3h7b0vm2NFctU0b/xYRLh73mFEFMfqSpSaasTCGqOSut9zxaOQKPg6WWD1tLBgltfSzoZ3jUSpjqfIsMWQjQesmfphDZqOFYEsl4O4VD2JGhReo3tpsmDSVucvmbodL+AAAA2wGfnmpJ/wAGt+7WsPslRbTbJGVsy86bFs21MfOiFGGRaJPwgoJVhvW2Kw4KprTCQL6gbUn6BuP9hUaMc7mA4oKvpD/SaY6K25qGaOLlEZJ/vC+SzogCnYhfO9ZhehYffvkTSgO/fyjU9446lqs0xKMfMT3mh5U94jh8ONF9uYPCRmt8j2KNn/RjBcyNOe8xaS44zhQCUCcV/Cpr/U46j44VD8Am/9vhdhDVbGt/82VGwNBo3NAlT7qptjXS6qjTzXdLTebXmu0QLarzWksKH0QkY30oW3MLagBmQAAAAOpBm4BJ4Q8mUwP/AAAWPrAsJUaPZL/6ojrUBXo/E/YdOtjOphrglJnvdXLKJUNSpRhsnb3ysjVK91uYoXwel5UMMYCQRxZDZ6ZyBwtNUshFWZrbyXMKgGyMzy5mqCtFWmBPJYqZcMHAgz0kVPB7oKTweLpy6kk/nn4UG3lDnkhmGaFWhoRgLn+nu60AT7XYtHAyKP6vEvzt3Tg/U9BfHDhH1guSIsICRNPuP5+2YrP2ydp9Rj6+K/fhVKbM1/klDSP+WsER4NuF+tNs9ydMZ7mO1Lp4ytT9Qco7HJwjWmxDiQL//CuI6ZRFSEEAAADVQZuhSeEPJlMD/wAAFj6wl8xKkqJvlTCeT2hE9Thhn2XmdjshwSkchOFAKAPgggdyCnmWjYBWYgdW487zDhDCCXl545yE+PCESfvPukfY33WS6ne9a6w5ZsdVHw2Y7WOBOEkenMkTgx0rmSyt0xYVvoP7xlD4TyDabk9ts/kBavVj7ND4VNHC2QDw9e2UBzfEy2qIpHZ2Ff/pViIPx+GvNN0rRRYs8B8uY/jd1O5T9RecJUTgTivXts7Qhu2BcbtW+bxeflmk/cH1+ld46AriGs5RvbgnAAAA4EGbwknhDyZTA/8AABbPpjqBD7vK/xtYq0t1oTRpjBG732tXCCPIGMNjyja0Rzf5kG/1qlEhtausmT4zjb4w/uPtGyXPB8TN9jOIaXMZhMZ2TgWeDGiDoF287DziYFxT9I2Or1yrD2RRejrv5ho/2clMHoj+Djb8rBMEiEPURpG7yI9HClUR5fL8W329wyf1YghaHd09dntJA4PVmlfwM6Hhx3Kk2qTvsAJOZcrv56ITt1vzwilfF1wdsHSlarvXc/wseQ5dekwQTexpuF+gdSFPVHgUYJZSDNQ6cadnvN+9AAAAvUGb40nhDyZTA/8AABaUe56baELbb0Q7QK0ywkzKGUHynp9Dnz+LIu7ARJRT692f4Dh/jpyWTmehMH1vgOk50CrRkClLWbo/4shNRMZqYlcreyAOC2ZWddvaNun+jBFinFqpk1IJ2I40Yo8lyzNGlA99i5oaGpcU5etD83fi+JFc/AnGazlz70nYhESZ7PbNbSptCP4k6iyak0HqczZnprtvuofa79Q6uf+nTbjYd7F/A+d+LejcN0AKP9504AAAAMJBmgRJ4Q8mUwP/AAAXCHSga+Ch5pLAkZhDbj+gbPo3TulXL8t8giHbWI0p5Esr6bJwZBIATv7QeISdFHXAPp8lRIOtePmARl0nTCx4a0ykVdNKRInlVxLgl1pEjDPkFc/QG1br3o5JOEG1n8KIjBOFBm/4PGTYgA+o1EzXqJ3b43xklhrVvTnAXXsCSc6bF3O75aXIE7NraerxbGPz+JkBdqjXbjCYz/VpsvAc3Y//IJzUB9+2a7FcyJDUF9EwLfMxQQAAAS1BmiVJ4Q8mUwP/AAAX/oAqZUZi///l9J7o+NSSoBDPFxBOZahXu8NAXVDg1XeKGUXhulvsOVvsm0bRz0vewVJqJY6svINNDTA0hdC+CfAbItJu3zfN36OiyzE3aQ8oGGbkCS0EXs0JsIBAXGcCrPSZMJNZEU80a+ah50r1jA8TVNHSpvdP3KeE7bT86oxAxH6OhU7bd2Ttcen4oRQuxA6h2ZaKPKgW5gQ0HNG1H/asj+P88SZHftMkbHZYFN3eyRzVGEeJ198MgIOoJeWhdEEca7dDTJno7laMlfMYwTvH46q6k1y2aRs9/g6GEjis/dm44kX0rQI5CGSqlrpVfknBSvI3+36LZNMrotBGhsXA7jSbcw1OH+CwkXHvY9XHHoqD2jbXxLetE4X4j79bAAAAuEGaRknhDyZTA/8AABe+jX6jMHfVOwluNRXYg7HdqbAFFHu0Cg5IUu3IlDpe1hLiQws15uCXcABx1RGRwxOj1XTQtZAfHTZyylhUeVG/6swFRnZujKXuQRByaxY5mRRccxe0DMoS9x8RyT6td/YY0PTrYtgiX0+5TUql1BzhBVaZtfqFzP+2RBFdxHJFupGAauKPN6A0/e+bvg93kDbOxMk6KIx7AdUHm2WrOvlj9HrY1JnmyJAgFycAAAC/QZpnSeEPJlMD/wAAGDr2t8Ybn5/LqMFIhtx/QNn0bp3Srl+W+QRDtrEaU8iWV9Nk4MgkAJ39luC6C3ubCrQy+7Wz6u2nhCN+cWvBDlX8jMlvBrXMRuv+OVUDvYAZMB0KXTs5DkLE//ImMSu+fuXp6SHNMKjgfZME5KXOuv0r/9cNZILj3M3XPHCMK8aUEMMQVjaVE7yflIhGWWjkM/ihiWbyS/FB1lKqjRd/gRZqJv8HB2KR2ZeRnQa5It2k95kAAAEQQZqISeEPJlMD/wAAGT6AKmVGYv//5fSe6PjUkqAQztkScy1Cvd37aujUMitRAIVokC6lrCIgUjatIThuYxsAqbqyV+Xr3lE1Ag8LVhxaVdut2eDVUbngRbIibssQyGjQ/HCf2Dxaa7fp587q76rmbF8I7d9dq2hbmjvSBn8ywvV5i4mtNOLdAwL4ES3MV451SdZk5Py3U+vR+nX3bW7HQYfhYVhr3XF1kIPY+OEk/7t0WcWZzzdSz0EpYGnpd2J3zzB4+3/7dXGiqMaPo2P3PJnh5oAYx07kuN/CiGPTYjzQ2fovYg4UYATS4GWE0uWAi4lRKmGe652nm5dZ7h10OZAKmJPSrnTy0ufkG21VAg4AAADxQZqpSeEPJlMD/wAAGQIFw6e6hJOvl/JpRlI9+08w1+mDcBwOehzSIeRDVvpPFVz/P1O0wbCAQMe51IEfg8SKKQ1x7NoyTE8KwOApMnV8Wd0WsxGo2ZuPF4mMjcDrRWORz/EUzl6mnWvkic7UXrPewmVKYPavVJ2qTwI6LJ50tmujPTbnsjAYehEe2YzULnUWZ+r2m0mJ4n2Ft6sFBcvFwwqNpS2M76j647w+1svrd979UBj+9i6hs44kxt+G3zW340mJikmLCSxfJeJRVFB8XCY80z+HnO3H5qvbs4S+O7EoDGAg8GToXxPcQlBjAhDUXAAAAbBBmstJ4Q8mUwURP/8AABp+gFD2BAxf/+oiIeziGoIV4wXVcYCoVDI4H4N2n1QWs/qLUXB2z/gq70pOAa99yo0E5uPd5QnMj75CmQ09toBP9erjTBYOS9J4+IucXVjMAQEbsMqlOK8qk0huz0BzyVz0KEmZHtG4DeJUvoHAW9rNWGdEhJUJFG9oFsKcnjs18vbO5L0vGXim/3+02XR7Gdjpz17VohSQgaIsAW3PFNM1xMjo//5am9n30NSRi23c72vWqAy9BxcI2Cv2VxY1fjYoMqT9dfJcQ4Q3rsMWJU2aYJ5TFMuQDesOu6DpArnfeCt482UmFcGHIo717IQGPf4NDoFzS0hwB8YSd18rki0kXqPrHv/lnnzVds8Qloc3NpI86C9szFS0L8geacv+18Jxrwby0yuKvwiReK75hBnnE0KMQ6bj3MZQK3XrGihY+OG3sZZW99TO3M4dt9xnpu1IV5XulLFluBx7EiLko3WVWJ6Cq22ghWc2OWFxbiJRsalV53vzXQIurV1Znf4XM1jUKn4fkCc88gj8l15981rvP+gdH5gaNHtd+3QNOAyVS6EAAACPAZ7qakn/AAghTrN+nzLcQ4/M4+4Yu85mZogyhpRD/8GT5qzdF+gKlHME/Z9SJAxviBvZY3VOJCa4YwBOwHuWOZt06FKJT2Eg54/S9OZwIkl67Jcq22Xo06xRTyJOoWEHwNkp9+wlYiLjSmYVoKzd7zKXbqL6fxIEI8w1wgZ3T6VAnZ07E+K5K/gAAAMAFlAAAAEBQZrsSeEPJlMD/wAAGx6AKmVGj2S/+qI61AV6PxP2HTrYzqYa4JSZ73Vyy0LYvrxxyifvp43XY4B+vX9FugzabNUVUO2Cv92ZQYmFYNHF6iwhC1DHdDTHIA0959KkTIySrKI4Gjufc3VABZ75m3i5UwZjEozNPsWI6CJCInAunOSQEwcf5wwkFWEv6gemaRRRsmNE8G8LlMcn8v6QKE26x4ctVgVB2dKL2BJrqoGmzbFHqkKjiKgvWz/7sLlN9KNtK0rXRkP87b+6M+ClG2auNHH9aR1ESsj0pyFy8mIbUdtVs9AduHne87SCEKoRf8zwSHLOO+6UeTuTAPMc+h6x1YAAAAEPQZsNSeEPJlMD/wAAGx6AlcxfMX//8vpPdHxqSVYx8gKtFKgONDeNg3XY4ChEDcm/9PDPp69UHZKbCiaj/LPjwt5pL5bgx4gBYbJaaIxiOPol76ap9P5zIDE6MG402D1Gud0Y/BYRwMTrd4SMl8NROw6PkRxkHmHhCk/sukIa2CeCJMHU/BvdWZjwEW9rD7UJVaMjfJKtLQpm3olvsWPMHCloQfHgJ7qtB2VI0pTAceZtoV8ETEMWMteV4zm8U8HHnd9ZNRyG2TT9KFj/IYdK3t+79X26nx/+xQ0KkusOPoskzeH38s6HFJAsekBd+kVu3+uGwtow4wsLMCsI0pyM2cjKVdQIZiI9MgeB5sMQzQAAAPlBmy5J4Q8mUwP/AAAbvoA5RUDF///L6T3R8aklXjGqCAsVqN0k9SHdKgHlzWf1FqLh0b/hdf6UnNJj7IkTQhS1eUMuDyYVJiwQC5nGS5L9T5fOf1OYEJiiqQhw5t3Q/T/I0kmdttpDuLtx5OcLfNXdfzHAAgVPO/1phEzCoax96EtjOuBArXWwpQ0pd0mIkhAAg/UAeECR/usbSJGE6cD3m6kgmDs/FK7pNQMx/UPQ0X93+6tGjgpvKPD6jzuaz8TYwToAoBe3sG9YPGGsrPVu/SzdMAKJ82OsIzLufmzF5nSC7tSDo8Rqlo18jWBkyrW5mYfeNF3qAcEAAAEOQZtPSeEPJlMD/wAAHG6AKmUdJUTfKmE8ntCJ2GvZSL8da+z+UponsFXpfC/fmF3IKXq7/F4CQCfgAbGuQG+cpy8wPKSuKE/VOAlwp/8Nz3Px8UG5I1mrfGOWziXOMwVPbWcLDhLAHQpmiMj3wD+FAcXDJmI/5ALqkEvpijw1KugPfZxrJKkFyuLzH09gtTurn/e4esZhk8NPNpRNfp8jOonh1KgmiLHNwcpdrJoyB3orfXiXn/AgjdLc/9Caa6vc4se6bnxwbPoLASbwrPt1cC7jwnaijt/fWvjV7MMs4FUh7/Bh40pdg+baWvPJZ8Ukzz0rAXbXVaJHioNkd2Pf745nER/HcC/+RWZCEOphAAABNUGbcUnhDyZTBRE//wAAHR6Al8sK6j2S/+qI61AV6PxP2F65hrglJnvdXLLcCoFv445RP308btPqghDffRboHTthfULoeHgGM6N81HSA92E85eLVi2ynnc8c+lmYIoEV0A+33C7632JJEwEZGNOff6WEJZmAouGrAsEAdFycO4guIG5Q6bGaggkfQvMW1mBQG/admyx0p7CDrxlZzqlZJxBDfo65etmC2PA2wnJcBbqOSkEmhpDHYL5fhAcB649PlBSdtz84Vjyqawa+rOoHECO9lLkjhlvpGFrPYrtN/ZnIMBTzK8Byuv9zUORfqecEUXbFVL+wPhIJWzIoU84p9lyfyqA4LxNtEDkNzrYRvnORWxD0jyRtcNNNneoMCDNxE+Joyxj6LoSc5foevmwPCc0OD9bugAAAARkBn5BqSf8ACSFOs36imtFqbnU3Y7XYrgJrI3yjIiiReMeiytTpioow4bJZJw1iajbbmwVEvcRxQlUHWjNUJdC3b4X+JorRcNLaUg4lM6VL+E5HOdLhIJ7cJWd4jtyXsm9YLk3vzP+qoyqgAv0ldnE2hzoNJM1jD/ClIMeiNHLlzescHGuiZFfVv3HjOjL3IkIFqwE5W8T2/a3mQtThq69/cBvZugB+DSAgLy6KkbfPhO8ojQcen6u0F1fgqATbOXJuDnzaLHX/wtuy+4XdmOOm/wEi4BUFG5YgUBl77E3CQl0toQSEzfweu/HfjANAgbNIAEhOWhYXNDL0DzTrxHFPAZuCVZbC6EZqtY471FG6oJW1IsoH1bABqwAAASRBm5JJ4Q8mUwP/AAAdzoAqZUZi///l9J7o+NSSrGF3WMUqA40N42Ddp9UFrP7Zl/wy0iUy0A7JSzMi7AhqDZCSws+q0VnDMuO4oY9nbvti5Lv3QGmatNodLrdBnL0CfnJSugIJWFNVqtAF0Iri3dCw4Mt4a0wU/X9qFNIbbOPCqm7M4fpXmzqW5V+5/tC9BWdAAI49/ZFg5dMbh0C7uGGmKsvr4DnEmNUbpUnVpylRnLHnuZpOFH13R/u6hS2/5pmXRHGGUrl/U50lUgXtcoD/rmYkhKdd8ayBbi1r3/9SFWALQffzQUhtFMnTSOpaw5zSRB00aU/CbZXL8voKTTKsmqTJN6SAv9usZH6r4cSv8a5TMq7PyGO9OjIq+8JTLuGNdClRAAAA6kGbs0nhDyZTA/8AAB3OgNSmEVKJvlTCeT2hXJuQrZfn4x+m2GeJUVEy3PdZc/QpRuNu+k04oKpZWAhRNSBzUS/RlCJL+s90InwGuV2hnpJhJAslTbGuh/vWHsMQAMrjkGYfEYBRG+FhgeZXCJXRROZT8HmgE71f471KBonQhH87xrRoU+XyDDISdar50VTT2sBhOxulrakcatNbmbdRm/aCXae6CvoWiuS/TPAhskOigl4yaw9w9C7KEQod3fQGpdzoVltVlZ6q5S75Gn5/nqg0ygGW0VJKfVxp1AcT73+SwVzcZ5DIS8UbkAAAAVpBm9VJ4Q8mUwURP/8AAB8ugFD2BAxf/+oiIeziGoIV4wXVcYCoVDI4H4N2n1QWs/qLUXB2z/gq70pOAa99yomuQBRx3IxmSJ3OS+992JcGRzjNtk/5ZX1jik12EdjxkQTUuqyq+g6hyZSQ8tkKqiHwRcGkSH5iB4D7AQpQVqeyDQ1PF1LcB8IT7bu9MxlqkC+aLv9W1XWdnt4FEejJutFLumw7LytGZea8X/PHku4Qdd7pzprsHzIPipam8oOplFD/Xls3ADRQm7WsJT7PL7P3SEclnZBOcrklPtSJ0dJpBGVh1Tuvj2pCNu1aLx28mZ+7f4fKlpn/7eQEfw8HhZFtuhBR9PFHMX6VTf0AZXHh+02wh/jPGVaujPlcuzBClHhd1o6UMsfb5zxu82I7GBET8owlPixZMXZWNTB0H1QKMdF6xLw66Pyqmeu2ih8JD0iXbYY2FbMo1f84AAAAggGf9GpJ/wAJ5LNuPzm2uoN9H6nyt8PPzNHq60gNbypGNjqsKDfsQaetWkXj39HTmA17N/TwUz3jM1lmOcj8+lQN0raJcF/UH75QHWC2b7a07DKaNaKifI7VakthD5Z2RjkcplZOt9jQHviFPIyL3FoU0LA8lDtjUdHEkAAAAwAAk4EAAAEIQZv2SeEPJlMD/wAAH96AKmVGj2S/+qI61AV6PxP2HTrYzqYa4JSZ73Vyy0LYvrxxyifvp43XY4B+vX9FugzabNK+TsFf7sygxjRMApep93wVX384p6Kwgin6m3CwdffmA2DRVahgfuVvrKAYultz0WNZ8hP1EplBIm7RpzhTexIdr8EukyYG0FrwthyFWPsFbiH7pBP/lNRZo4uLlZGf+ukxvnQjUz7I9NCTpD6S8bZNx2/HQpM+PM4a94VnB4z25DGGDCCZVfUsHx0C7e8B863OOQzLWfWJ9v+Wd1W/NO9zOr6a09lYlkMwzLB7dQ5whgXXxoW3LyjtD/KW9CIHyCj8afqqnUrwAAABCEGaF0nhDyZTA/8AAB/egJXMXzF///L6T3R8aklWMfICrRSoDjQ3jYN12OAoRA3Jv/Twz6evVB2Smwomo/yz48LeaS+W4MeIAWGyWmiMYjj6K/diZy8bdQ+I/1W7D3uiTDsqI7bTGpDTOD6MMdN7kcInqBeZLJv62KFBJGJRUu6847OyGvQEO2G3oPmIV6r86FoUe+jQezSBpEY/B0+LKIYJfl3U1sj/+NvWy4cJzNImG9BhWnQYU4ReMhwrBMeVWc5y5hyn6jLGotXVbPlzhHQlzUKRaw6LLFtXVP8ZJloQt2myOUvk1d+VIn2L+uN9kIIIFlxm9ir717qTFoPFQW3XvAh+lWpfQQAABmJtb292AAAAbG12aGQAAAAAAAAAAAAAAAAAAAPoAAAFuwABAAABAAAAAAAAAAAAAAAAAQAAAAAAAAAAAAAAAAAAAAEAAAAAAAAAAAAAAAAAAEAAAAAAAAAAAAAAAAAAAAAAAAAAAAAAAAAAAAAAAAACAAAFjHRyYWsAAABcdGtoZAAAAAMAAAAAAAAAAAAAAAEAAAAAAAAFuwAAAAAAAAAAAAAAAAAAAAAAAQAAAAAAAAAAAAAAAAAAAAEAAAAAAAAAAAAAAAAAAEAAAAADIAAAAyAAAAAAACRlZHRzAAAAHGVsc3QAAAAAAAAAAQAABbsAAAIAAAEAAAAABQRtZGlhAAAAIG1kaGQAAAAAAAAAAAAAAAAAADwAAABYAFXEAAAAAAAtaGRscgAAAAAAAAAAdmlkZQAAAAAAAAAAAAAAAFZpZGVvSGFuZGxlcgAAAASvbWluZgAAABR2bWhkAAAAAQAAAAAAAAAAAAAAJGRpbmYAAAAcZHJlZgAAAAAAAAABAAAADHVybCAAAAABAAAEb3N0YmwAAACvc3RzZAAAAAAAAAABAAAAn2F2YzEAAAAAAAAAAQAAAAAAAAAAAAAAAAAAAAADIAMgAEgAAABIAAAAAAAAAAEAAAAAAAAAAAAAAAAAAAAAAAAAAAAAAAAAAAAAAAAAAAAY//8AAAA1YXZjQwFkACD/4QAYZ2QAIKzZQMgZaEAAAAMAQAAAHgPGDGWAAQAGaOviSyLA/fj4AAAAABRidHJ0AAAAAAABpJ4AAaSeAAAAGHN0dHMAAAAAAAAAAQAAAFgAAAEAAAAAFHN0c3MAAAAAAAAAAQAAAAEAAAHoY3R0cwAAAAAAAAA7AAAAAQAAAgAAAAABAAAFAAAAAAEAAAIAAAAAAQAAAAAAAAABAAABAAAAAAEAAAUAAAAAAQAAAgAAAAABAAAAAAAAAAEAAAEAAAAAAQAABQAAAAABAAACAAAAAAEAAAAAAAAAAQAAAQAAAAABAAAFAAAAAAEAAAIAAAAAAQAAAAAAAAABAAABAAAAAAEAAAMAAAAAAQAAAQAAAAABAAADAAAAAAEAAAEAAAAAAQAAAwAAAAABAAABAAAAAAEAAAIAAAAAAQAAAwAAAAABAAABAAAAAAIAAAIAAAAAAQAAAwAAAAABAAABAAAAAAIAAAIAAAAAAQAAAwAAAAABAAABAAAAAAQAAAIAAAAAAQAAAwAAAAABAAABAAAAAAEAAAIAAAAAAQAABAAAAAACAAABAAAAAAEAAAIAAAAAAQAAAwAAAAABAAABAAAAAAEAAAIAAAAAAQAABAAAAAACAAABAAAAAAkAAAIAAAAAAQAAAwAAAAABAAABAAAAAAEAAAMAAAAAAQAAAQAAAAAKAAACAAAAAAEAAAMAAAAAAQAAAQAAAAAEAAACAAAAAAEAAAMAAAAAAQAAAQAAAAACAAACAAAAAAEAAAMAAAAAAQAAAQAAAAACAAACAAAAABxzdHNjAAAAAAAAAAEAAAABAAAAWAAAAAEAAAF0c3RzegAAAAAAAAAAAAAAWAAAC0UAAADBAAABKwAAAEwAAABLAAAA1QAAAK0AAABUAAAAgwAAAL0AAADGAAAAiwAAAHAAAADtAAAAgwAAAGkAAAC+AAAAmAAAAGcAAAB2AAAAdgAAAJcAAABiAAAAcwAAAJEAAAB0AAAAaAAAAHMAAADbAAAAogAAAIMAAACFAAAApAAAAVQAAADUAAAAfQAAAJkAAACCAAAApQAAAIEAAACKAAABDgAAAI4AAAB9AAAAqQAAALIAAAFRAAAArwAAAR4AAACgAAAAhQAAAOQAAACtAAAArgAAALUAAADYAAAA0AAAAO8AAAC6AAAA3QAAANoAAAClAAABHwAAAN8AAADuAAAA2QAAAOQAAADBAAAAxgAAATEAAAC8AAAAwwAAARQAAAD1AAABtAAAAJMAAAEFAAABEwAAAP0AAAESAAABOQAAAR0AAAEoAAAA7gAAAV4AAACGAAABDAAAAQwAAAAUc3RjbwAAAAAAAAABAAAAMAAAAGJ1ZHRhAAAAWm1ldGEAAAAAAAAAIWhkbHIAAAAAAAAAAG1kaXJhcHBsAAAAAAAAAAAAAAAALWlsc3QAAAAlqXRvbwAAAB1kYXRhAAAAAQAAAABMYXZmNTguNzYuMTAw\" type=\"video/mp4\"/>\n",
       "      This browser does not support the video tag.\n",
       "      </video></td></tr></table>"
      ],
      "text/plain": [
       "<IPython.core.display.HTML object>"
      ]
     },
     "metadata": {},
     "output_type": "display_data"
    }
   ],
   "source": [
    "media.show_video(frames)"
   ]
  }
 ],
 "metadata": {
  "kernelspec": {
   "display_name": "Python 3 (ipykernel)",
   "language": "python",
   "name": "python3"
  },
  "language_info": {
   "codemirror_mode": {
    "name": "ipython",
    "version": 3
   },
   "file_extension": ".py",
   "mimetype": "text/x-python",
   "name": "python",
   "nbconvert_exporter": "python",
   "pygments_lexer": "ipython3",
   "version": "3.10.12"
  }
 },
 "nbformat": 4,
 "nbformat_minor": 5
}
