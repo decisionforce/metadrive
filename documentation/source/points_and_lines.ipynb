{
 "cells": [
  {
   "cell_type": "markdown",
   "id": "026127cf",
   "metadata": {},
   "source": [
    "## Draw 3D Points and Lines"
   ]
  },
  {
   "cell_type": "markdown",
   "id": "13d33fc3",
   "metadata": {},
   "source": [
    "We usually draw points and lines in the 3D world to debug when developing new features and fixing bugs.\n",
    "There two types of visualization tools can be used: lines and points.\n",
    "\n",
    "Note: Please remove debug codes after finishing "
   ]
  }
 ],
 "metadata": {
  "kernelspec": {
   "display_name": "Python 3 (ipykernel)",
   "language": "python",
   "name": "python3"
  },
  "language_info": {
   "codemirror_mode": {
    "name": "ipython",
    "version": 3
   },
   "file_extension": ".py",
   "mimetype": "text/x-python",
   "name": "python",
   "nbconvert_exporter": "python",
   "pygments_lexer": "ipython3",
   "version": "3.7.13"
  }
 },
 "nbformat": 4,
 "nbformat_minor": 5
}
