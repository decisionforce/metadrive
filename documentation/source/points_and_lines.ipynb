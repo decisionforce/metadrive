{
 "cells": [
  {
   "cell_type": "markdown",
   "id": "026127cf",
   "metadata": {},
   "source": [
    "## Draw 3D Points and Lines"
   ]
  },
  {
   "cell_type": "markdown",
   "id": "13d33fc3",
   "metadata": {},
   "source": [
    "We usually draw points and lines in the 3D world to debug when developing new features and fixing bugs. There two types of visualization tools can be used: **line** and **point**. In this section, we will show how to use these tools. First of all, let's make an environment."
   ]
  },
  {
   "cell_type": "code",
   "execution_count": 1,
   "id": "ea07a6bd",
   "metadata": {},
   "outputs": [
    {
     "name": "stderr",
     "output_type": "stream",
     "text": [
      "\u001b[38;20m[INFO] MetaDrive version: 0.4.1.2\u001b[0m\n",
      "\u001b[38;20m[INFO] Sensors: [lidar: Lidar(50,), side_detector: SideDetector(), lane_line_detector: LaneLineDetector(), dashboard: DashBoard(), main_camera: MainCamera(1200, 900)]\u001b[0m\n",
      "\u001b[38;20m[INFO] Render Mode: onscreen\u001b[0m\n",
      "\u001b[33;20m[WARNING] You are using DummyObservation which doesn't collect information from the environment. (observation_base.py:42)\u001b[0m\n"
     ]
    }
   ],
   "source": [
    "from metadrive.envs.base_env import BaseEnv\n",
    "import os\n",
    "render = not os.getenv('TEST_DOC')\n",
    "\n",
    "env = BaseEnv(dict(use_render=render))"
   ]
  },
  {
   "cell_type": "markdown",
   "id": "db4d9a7a",
   "metadata": {},
   "source": [
    "### Line\n",
    "A line can be represented by a list of points. "
   ]
  },
  {
   "cell_type": "code",
   "execution_count": 2,
   "id": "1fd55f93",
   "metadata": {},
   "outputs": [],
   "source": [
    "line=[[x,x,0.5] for x in range(10)] # generate a line for test\n",
    "\n"
   ]
  }
 ],
 "metadata": {
  "kernelspec": {
   "display_name": "Python 3 (ipykernel)",
   "language": "python",
   "name": "python3"
  },
  "language_info": {
   "codemirror_mode": {
    "name": "ipython",
    "version": 3
   },
   "file_extension": ".py",
   "mimetype": "text/x-python",
   "name": "python",
   "nbconvert_exporter": "python",
   "pygments_lexer": "ipython3",
   "version": "3.7.13"
  }
 },
 "nbformat": 4,
 "nbformat_minor": 5
}
