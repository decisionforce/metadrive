{
 "cells": [
  {
   "cell_type": "markdown",
   "id": "85aad276",
   "metadata": {},
   "source": [
    "## Draw 3D Points and Lines"
   ]
  },
  {
   "cell_type": "markdown",
   "id": "13d33fc3",
   "metadata": {},
   "source": [
    "We usually draw points and lines in the 3D world to debug when developing new features and fixing bugs. There are two types of visualization tools can be used: **line** and **point**. In this section, we will show how to use these tools. First of all, let's make an environment and define the tool function which returns a set of points representing a straight line and the color for each point. The points gradually become pink with the distance increasing. "
   ]
  },
  {
   "cell_type": "code",
   "execution_count": 1,
   "id": "1e83bd4e",
   "metadata": {},
   "outputs": [
    {
     "name": "stderr",
     "output_type": "stream",
     "text": [
      "\u001b[38;20m[INFO] MetaDrive version: 0.4.1.2\u001b[0m\n",
      "\u001b[38;20m[INFO] Sensors: [lidar: Lidar(50,), side_detector: SideDetector(), lane_line_detector: LaneLineDetector(), dashboard: DashBoard(), main_camera: MainCamera(1200, 900)]\u001b[0m\n",
      "\u001b[38;20m[INFO] Render Mode: onscreen\u001b[0m\n",
      "\u001b[33;20m[WARNING] You are using DummyObservation which doesn't collect information from the environment. (observation_base.py:42)\u001b[0m\n"
     ]
    }
   ],
   "source": [
    "from metadrive.envs.base_env import BaseEnv\n",
    "import numpy as np\n",
    "import os\n",
    "render = not os.getenv('TEST_DOC')\n",
    "\n",
    "# Define a tool function. \n",
    "# Example: given x_offset=0, height=0.5, y_dir=1, return [[0,0,0.5], [1,1,0.5],..., [10, 10, 0.5]]\n",
    "def make_line(x_offset, height, y_dir=1, color=(1,105/255,180/255)):\n",
    "    points = [(x_offset+x,x*y_dir,height*x/10+height) for x in range(10)]\n",
    "    colors = [np.clip(np.array([*color,1])*(i+1)/11, 0., 1.0) for i in range(10)]\n",
    "    if y_dir<0:\n",
    "        points = points[::-1]\n",
    "        colors = colors[::-1]\n",
    "    return points, colors\n",
    "\n",
    "# create environment\n",
    "env = BaseEnv(dict(use_render=render)) "
   ]
  },
  {
   "cell_type": "markdown",
   "id": "cec8ab02",
   "metadata": {},
   "source": [
    "### Line\n",
    "The API we are using takes a list of lines as input. A line is represented by a list of points. Thus we create two lines in the following script and draw them in the scene. Also, colors can be specified for each point."
   ]
  },
  {
   "cell_type": "code",
   "execution_count": null,
   "id": "08ee500d",
   "metadata": {},
   "outputs": [],
   "source": [
    "line_1, color_1 = make_line(6, 0.5, 1) # define line 1 for test\n",
    "line_2, color_2 = make_line(6, 0.5, -1) # define line 2 for test\n",
    "lines = [line_1, line_2]\n",
    "colors = [color_1, color_2]\n",
    "\n",
    "env.reset() # launch the simulation\n",
    "try:\n",
    "    drawer = env.engine.make_line_drawer(thickness=5) # create a line drawer\n",
    "    drawer.draw_lines(lines, colors) # draw lines\n",
    "    \n",
    "    for i in range(100):\n",
    "        env.step([0,0])\n",
    "finally:    \n",
    "    env.close()\n"
   ]
  },
  {
   "cell_type": "markdown",
   "id": "77c60c42",
   "metadata": {},
   "source": [
    "A drawer can draw as many lines as possible, but sometimes you may want to clear previous lines and recreate new ones. In this case, you can use *drawer.reset()* to clear previous lines. The following code shows an example, where every step the lines to draw are updated. "
   ]
  },
  {
   "cell_type": "code",
   "execution_count": null,
   "id": "d8bbf84c",
   "metadata": {},
   "outputs": [],
   "source": [
    "env.reset() # launch the simulation\n",
    "try:\n",
    "    drawer = env.engine.make_line_drawer(thickness=5) # create a line drawer\n",
    "    for i in range(100):\n",
    "        \n",
    "        # draw different lines every step\n",
    "        line_1, color_1 = make_line(6, 0.5, 0.01*i) # define line 1 for test\n",
    "        line_2, color_2 = make_line(6, 0.5, -0.01*i) # define line 2 for test\n",
    "        lines = [line_1, line_2]\n",
    "        colors = [color_1, color_2]\n",
    "        drawer.reset()\n",
    "        drawer.draw_lines(lines, colors) # draw lines\n",
    "        \n",
    "        env.step([0,0])\n",
    "finally:    \n",
    "    env.close()"
   ]
  },
  {
   "cell_type": "markdown",
   "id": "6e5b93a6",
   "metadata": {},
   "source": [
    "By default, the drawer drawing lines in the world coordinates. It is also allowed to draw lines in objects' local coordinates. In the following example, you will see that the two lines moves with the vehicle. **Note: there is a bug that when the drawer is set in vehicle coordinates the color parameter is invalid. Thus the line color is white in this example.**"
   ]
  },
  {
   "cell_type": "code",
   "execution_count": null,
   "id": "92fb9ede",
   "metadata": {},
   "outputs": [],
   "source": [
    "env.reset() # launch the simulation\n",
    "try:\n",
    "    drawer = env.engine.make_line_drawer(env.vehicle.origin, thickness=5) # create a line drawer\n",
    "    drawer.setH(90) # rotate the drawer by 90 degree, as +x direction is at the right side of the car.\n",
    "    for i in range(100):\n",
    "        \n",
    "        # draw different lines every step\n",
    "        line_1, color_1 = make_line(6, 0.5, 0.01*i) # define line 1 for test\n",
    "        line_2, color_2 = make_line(6, 0.5, -0.01*i) # define line 2 for test\n",
    "        lines = [line_1, line_2]\n",
    "        colors = [color_1, color_2]\n",
    "        drawer.reset()\n",
    "        drawer.draw_lines(lines, colors) # draw lines\n",
    "        \n",
    "        env.step([0.1,0.5])\n",
    "finally:    \n",
    "    env.close()"
   ]
  },
  {
   "cell_type": "markdown",
   "id": "07109f19",
   "metadata": {},
   "source": [
    "### Point\n",
    "MetaDrive also provides point drawer to visualize a set of points. The usage of this function is almost the same as the line drawer. The following example creates a point drawer and update the point positions every frame."
   ]
  },
  {
   "cell_type": "code",
   "execution_count": null,
   "id": "a51ac0b2",
   "metadata": {},
   "outputs": [],
   "source": [
    "env.reset() # launch the simulation\n",
    "try:\n",
    "    drawer = env.engine.make_point_drawer(scale=1) # create a point drawer\n",
    "    for i in range(100):\n",
    "        \n",
    "        # draw different lines every step\n",
    "        line_1, color_1 = make_line(6, 0.5, 0.01*i) # define line 1 for test\n",
    "        line_2, color_2 = make_line(6, 0.5, -0.01*i) # define line 2 for test\n",
    "        points = line_1 + line_2 # create point list\n",
    "        colors = color_1+ color_2\n",
    "        drawer.reset()\n",
    "        drawer.draw_points(points, colors) # draw points\n",
    "        \n",
    "        env.step([0,0])\n",
    "finally:    \n",
    "    env.close()"
   ]
  },
  {
   "cell_type": "markdown",
   "id": "fd30195c",
   "metadata": {},
   "source": [
    "In addition, the points can work with lines. In the following example, a list of points are visualized with lines, while the other one is visualized with points. Besides, we cancel the *reset* to keep previous drawn points and lines."
   ]
  },
  {
   "cell_type": "code",
   "execution_count": 2,
   "id": "71575db2",
   "metadata": {},
   "outputs": [
    {
     "name": "stderr",
     "output_type": "stream",
     "text": [
      "\u001b[38;20m[INFO] Assets version: 0.4.1.2\u001b[0m\n",
      "Known pipe types:\n",
      "  glxGraphicsPipe\n",
      "(1 aux display modules not yet loaded.)\n",
      "\u001b[33;20m[WARNING] Can not find `start_seed` or `start_scenario_index`. Use 0 as `start_seed` (base_engine.py:614)\u001b[0m\n",
      "\u001b[33;20m[WARNING] No map is provided. Set vehicle to position (0, 0) with heading 0 (base_vehicle.py:309)\u001b[0m\n",
      "\u001b[33;20m[WARNING] Can not find map. Generate a square terrain (terrain.py:570)\u001b[0m\n",
      "\u001b[33;20m[WARNING] Reward function is not implemented. Return reward = 0 (base_env.py:430)\u001b[0m\n",
      "\u001b[33;20m[WARNING] Done function is not implemented. Return Done = False (base_env.py:438)\u001b[0m\n",
      "\u001b[33;20m[WARNING] Cost function is not implemented. Return cost = 0 (base_env.py:434)\u001b[0m\n"
     ]
    },
    {
     "ename": "SystemExit",
     "evalue": "",
     "output_type": "error",
     "traceback": [
      "An exception has occurred, use %tb to see the full traceback.\n",
      "\u001b[0;31mSystemExit\u001b[0m\n"
     ]
    },
    {
     "name": "stderr",
     "output_type": "stream",
     "text": [
      "/home/shady/data/miniconda/envs/metadrive/lib/python3.7/site-packages/IPython/core/interactiveshell.py:3561: UserWarning: To exit: use 'exit', 'quit', or Ctrl-D.\n",
      "  warn(\"To exit: use 'exit', 'quit', or Ctrl-D.\", stacklevel=1)\n"
     ]
    }
   ],
   "source": [
    "env.reset() # launch the simulation\n",
    "try:\n",
    "    point_drawer = env.engine.make_point_drawer(scale=1) # create a point drawer\n",
    "    line_drawer = env.engine.make_line_drawer(thickness=5) # create a line drawer\n",
    "    for i in range(100):\n",
    "        \n",
    "        if i%5==0:\n",
    "            # draw different lines every step\n",
    "            line_1, color_1 = make_line(6, 0.5, 0.01*i) # define line 1 for test\n",
    "            line_2, color_2 = make_line(6, 0.5, -0.01*i) # define line 2 for test\n",
    "            points = line_1\n",
    "            point_colors = color_1\n",
    "            lines = [line_2]\n",
    "            line_colors = [color_2]\n",
    "            # drawer.reset()\n",
    "            point_drawer.draw_points(points, point_colors) # draw lines\n",
    "            line_drawer.draw_lines(lines, line_colors)\n",
    "        \n",
    "        env.step([0,0])\n",
    "finally:    \n",
    "    env.close()"
   ]
  }
 ],
 "metadata": {
  "kernelspec": {
   "display_name": "Python 3 (ipykernel)",
   "language": "python",
   "name": "python3"
  },
  "language_info": {
   "codemirror_mode": {
    "name": "ipython",
    "version": 3
   },
   "file_extension": ".py",
   "mimetype": "text/x-python",
   "name": "python",
   "nbconvert_exporter": "python",
   "pygments_lexer": "ipython3",
   "version": "3.7.13"
  }
 },
 "nbformat": 4,
 "nbformat_minor": 5
}
