{
 "cells": [
  {
   "cell_type": "markdown",
   "id": "92c86eb4",
   "metadata": {},
   "source": [
    "# Action and Policy\n",
    "This section will discuss how to control the vehicle in MetaDrive with the *Policy* interface. Before this, let's have a look at the raw control signal required by vehicles.\n",
    "\n",
    "## Action\n",
    "\n",
    "To control vehicles in MetaDrive, the input should be a normalized action: $\\mathbf a = [a_1, a_2] \\in [-1, 1]^2$. This action is converted into the steering $u_s$ (degree), acceleration $u_a$ (hp) and brake signal $u_b$ (hp) in the following ways:\n",
    "\n",
    "$u_s = S_{max} a_1$  \n",
    "$u_a = F_{max} \\max(0, a_2)$  \n",
    "$u_b = -B_{max} \\min(0, a_2)$  \n",
    "\n",
    "wherein $S_{max}$ (degree) is the maximal steering angle, $F_{max}$ (hp) is the maximal engine force, and $B_{max}$ (hp) is the maximal brake force. \n",
    "To increase diversity, the accurate values of these parameters are varying across different vehicle but are limited to certain ranges defined by [VehicleParameterSpace](https://github.com/metadriverse/metadrive/blob/main/metadrive/utils/space.py).\n",
    "\n",
    "The steering $u_s$ is applied to two front wheels. In addition, the engine force $u_a$ and the brake force $u_b$ are applied to four wheels, as the car in MetaDrive is four-wheel drive (4WD). The concrete implementation is as follows:"
   ]
  },
  {
   "cell_type": "code",
   "execution_count": 5,
   "id": "e7d118d4",
   "metadata": {},
   "outputs": [
    {
     "name": "stdout",
     "output_type": "stream",
     "text": [
      "    def _set_action(self, action):\n",
      "        if action is None:\n",
      "            return\n",
      "        steering = action[0]\n",
      "        self.throttle_brake = action[1]\n",
      "        self.steering = steering\n",
      "        self.system.setSteeringValue(self.steering * self.max_steering, 0)\n",
      "        self.system.setSteeringValue(self.steering * self.max_steering, 1)\n",
      "        self._apply_throttle_brake(action[1])\n",
      "\n",
      "    def _apply_throttle_brake(self, throttle_brake):\n",
      "        max_engine_force = self.config[\"max_engine_force\"]\n",
      "        max_brake_force = self.config[\"max_brake_force\"]\n",
      "        for wheel_index in range(4):\n",
      "            if throttle_brake >= 0:\n",
      "                self.system.setBrake(2.0, wheel_index)\n",
      "                if self.speed_km_h > self.max_speed_km_h:\n",
      "                    self.system.applyEngineForce(0.0, wheel_index)\n",
      "                else:\n",
      "                    self.system.applyEngineForce(max_engine_force * throttle_brake, wheel_index)\n",
      "            else:\n",
      "                if self.enable_reverse:\n",
      "                    self.system.applyEngineForce(max_engine_force * throttle_brake, wheel_index)\n",
      "                    self.system.setBrake(0, wheel_index)\n",
      "                else:\n",
      "                    self.system.applyEngineForce(0.0, wheel_index)\n",
      "                    self.system.setBrake(abs(throttle_brake) * max_brake_force, wheel_index)\n",
      "\n"
     ]
    }
   ],
   "source": [
    "from metadrive.component.vehicle.base_vehicle import BaseVehicle\n",
    "import inspect\n",
    "print(inspect.getsource(BaseVehicle._set_action))\n",
    "print(inspect.getsource(BaseVehicle._apply_throttle_brake))"
   ]
  },
  {
   "cell_type": "markdown",
   "id": "c48486b7",
   "metadata": {},
   "source": [
    "Actually, you can make the car 2WD or 4 wheel steering or even increasing its number of wheels by implementing a new vehicle type like `BaseVehicle`.\n",
    "\n",
    "The aforementioned `_set_action(self, action)` function is wrapped by the `before_step(self, action)` function, which will do additional manipulations like numerical validation. Thus to control a vehicle, just set the action through `vehicle.before_step(target_action)` before simulating the next step. A minimal example to control a vehicle is as follows. The script first creates a new vehicle in front of the green ego car and set its action as `[0, 0.05]` at each step. As a result, it slowly moves forward, while the green ego car stops at the origin as its input action is always `[0, 0]`. "
   ]
  },
  {
   "cell_type": "code",
   "execution_count": null,
   "id": "0d6d0b30",
   "metadata": {},
   "outputs": [],
   "source": [
    "from metadrive.envs.metadrive_env import MetaDriveEnv\n",
    "from metadrive.component.vehicle.vehicle_type import DefaultVehicle\n",
    "\n",
    "env=MetaDriveEnv(dict(map=\"S\", traffic_density=0))\n",
    "try:\n",
    "    env.reset()\n",
    "    cfg=env.config[\"vehicle_config\"]\n",
    "    cfg[\"navigation\"]=None # it doesn't need navigation system\n",
    "    v = env.engine.spawn_object(DefaultVehicle, vehicle_config=cfg, position=[30,0], heading=0)\n",
    "    for _ in range(500):\n",
    "        v.before_step([0, 0.05])\n",
    "        env.step([0,0])\n",
    "        env.render(mode=\"topdown\", screen_size=(800, 400),camera_position=(60,10))\n",
    "finally:\n",
    "    env.close()"
   ]
  },
  {
   "cell_type": "markdown",
   "id": "3bd97f87",
   "metadata": {},
   "source": [
    "## Policy\n",
    "\n",
    "Generally, we want to control the vehicle in several ways besides providing raw action. For example, we may want to have an intermediate controller to turn the high-level driving commands into the low-level steering, throttle and brake signals. MetaDrive thus provides such an interface called *Policy*. The output of any *Policy* is supposed to be the raw signals taken by `vehicle.before_step` as input. To make such driving decisions, *Policy* can access all simulation information such as maps and objects as well as the external input signals from `env.step`. This allows us to make either an intermediate controller or a self-contained self-driving policy like `IDMPolicy`. Let's firstly have a look at the basic `EnvInputPolicy`. \n",
    "\n",
    "### EnvInputPolicy\n",
    "By such design, the action space for each agent is always fixed to `gym.spaces.Box(low=-1.0, high=1.0, shape=(2, ))`. However, we provides a config named `extra_action_dim` (int) which allows user to add more dimensions in the action space.\n",
    "For example, if we set `config[\"extra_action_dim\"] = 1`, then the action space for each agent will become `Box(-1.0, 1.0, shape=(3, ))`. This allow the user to write environment wrapper that introduce more input action dimensions."
   ]
  },
  {
   "cell_type": "markdown",
   "id": "a412d7f2",
   "metadata": {},
   "source": []
  }
 ],
 "metadata": {
  "kernelspec": {
   "display_name": "Python 3 (ipykernel)",
   "language": "python",
   "name": "python3"
  },
  "language_info": {
   "codemirror_mode": {
    "name": "ipython",
    "version": 3
   },
   "file_extension": ".py",
   "mimetype": "text/x-python",
   "name": "python",
   "nbconvert_exporter": "python",
   "pygments_lexer": "ipython3",
   "version": "3.7.13"
  }
 },
 "nbformat": 4,
 "nbformat_minor": 5
}
