{
 "cells": [
  {
   "cell_type": "markdown",
   "id": "92c86eb4",
   "metadata": {},
   "source": [
    "# Action and Policy\n",
    "This section will discuss how to control the vehicle in MetaDrive with the *Policy* interface. Before this, let's have a look at the raw control signal required by vehicles.\n",
    "\n",
    "## Action\n",
    "\n",
    "To control vehicles in MetaDrive, the input should be a normalized action: $\\mathbf a = [a_1, a_2] \\in [-1, 1]^2$. This action is converted into the steering $u_s$ (degree), acceleration $u_a$ (hp) and brake signal $u_b$ (hp) in the following ways:\n",
    "\n",
    "$u_s = S_{max} a_1$  \n",
    "$u_a = F_{max} \\max(0, a_2)$  \n",
    "$u_b = -B_{max} \\min(0, a_2)$  \n",
    "\n",
    "wherein $S_{max}$ (degree) is the maximal steering angle, $F_{max}$ (hp) is the maximal engine force, and $B_{max}$ (hp) is the maximal brake force. \n",
    "To increase diversity, the accurate values of these parameters are varying across different vehicle but are limited to certain ranges defined by [VehicleParameterSpace](https://github.com/metadriverse/metadrive/blob/main/metadrive/utils/space.py).\n",
    "\n",
    "The steering $u_s$ is applied to two front wheels. In addition, the engine force $u_a$ and the brake force $u_b$ are applied to four wheels, as the car in MetaDrive is four-wheel drive (4WD). The concrete implementation is as follows:"
   ]
  },
  {
   "cell_type": "code",
   "execution_count": 5,
   "id": "e7d118d4",
   "metadata": {},
   "outputs": [
    {
     "name": "stdout",
     "output_type": "stream",
     "text": [
      "    def _set_action(self, action):\n",
      "        if action is None:\n",
      "            return\n",
      "        steering = action[0]\n",
      "        self.throttle_brake = action[1]\n",
      "        self.steering = steering\n",
      "        self.system.setSteeringValue(self.steering * self.max_steering, 0)\n",
      "        self.system.setSteeringValue(self.steering * self.max_steering, 1)\n",
      "        self._apply_throttle_brake(action[1])\n",
      "\n",
      "    def _apply_throttle_brake(self, throttle_brake):\n",
      "        max_engine_force = self.config[\"max_engine_force\"]\n",
      "        max_brake_force = self.config[\"max_brake_force\"]\n",
      "        for wheel_index in range(4):\n",
      "            if throttle_brake >= 0:\n",
      "                self.system.setBrake(2.0, wheel_index)\n",
      "                if self.speed_km_h > self.max_speed_km_h:\n",
      "                    self.system.applyEngineForce(0.0, wheel_index)\n",
      "                else:\n",
      "                    self.system.applyEngineForce(max_engine_force * throttle_brake, wheel_index)\n",
      "            else:\n",
      "                if self.enable_reverse:\n",
      "                    self.system.applyEngineForce(max_engine_force * throttle_brake, wheel_index)\n",
      "                    self.system.setBrake(0, wheel_index)\n",
      "                else:\n",
      "                    self.system.applyEngineForce(0.0, wheel_index)\n",
      "                    self.system.setBrake(abs(throttle_brake) * max_brake_force, wheel_index)\n",
      "\n"
     ]
    }
   ],
   "source": [
    "from metadrive.component.vehicle.base_vehicle import BaseVehicle\n",
    "import inspect\n",
    "print(inspect.getsource(BaseVehicle._set_action))\n",
    "print(inspect.getsource(BaseVehicle._apply_throttle_brake))"
   ]
  },
  {
   "cell_type": "markdown",
   "id": "c48486b7",
   "metadata": {},
   "source": [
    "Actually, you can make the car 2WD or 4 wheel steering or even increasing its number of wheels by implementing a new vehicle type like `BaseVehicle`.\n",
    "\n",
    "The aforementioned `_set_action(self, action)` function is wrapped by the `before_step(self, action)` function, which will do additional manipulations like numerical validation. Thus to control a vehicle, just set the action through `vehicle.before_step(target_action)` before simulating the next step. A minimal example to control a vehicle is as follows. The script first creates a new vehicle in front of the green ego car and set its action as `[0, 0.05]` at each step. As a result, it slowly moves forward, while the green ego car stops at the origin as its input action is always `[0, 0]`. "
   ]
  },
  {
   "cell_type": "code",
   "execution_count": null,
   "id": "0d6d0b30",
   "metadata": {},
   "outputs": [],
   "source": [
    "from metadrive.envs.metadrive_env import MetaDriveEnv\n",
    "from metadrive.component.vehicle.vehicle_type import DefaultVehicle\n",
    "\n",
    "env=MetaDriveEnv(dict(map=\"S\", traffic_density=0))\n",
    "try:\n",
    "    env.reset()\n",
    "    cfg=env.config[\"vehicle_config\"]\n",
    "    cfg[\"navigation\"]=None # it doesn't need navigation system\n",
    "    v = env.engine.spawn_object(DefaultVehicle, vehicle_config=cfg, position=[30,0], heading=0)\n",
    "    for _ in range(500):\n",
    "        v.before_step([0, 0.05])\n",
    "        env.step([0,0])\n",
    "        env.render(mode=\"topdown\", screen_size=(800, 400),camera_position=(60,10))\n",
    "finally:\n",
    "    env.close()"
   ]
  },
  {
   "cell_type": "markdown",
   "id": "3bd97f87",
   "metadata": {},
   "source": [
    "## Policy\n",
    "\n",
    "Generally, we want to control the vehicle in several ways besides providing raw action. For example, we may want to have an intermediate controller to turn the high-level driving commands into the low-level steering, throttle and brake signals. MetaDrive thus provides such an interface called *Policy*. The output of any *Policy* is supposed to be the raw signals taken by `vehicle.before_step` as input. To make such driving decisions, *Policy* can access all simulation information such as the map and all other objects as well as the external input signals from `env.step`. This allows us to make either an intermediate controller or a self-contained self-driving policy like `IDMPolicy`. Let's firstly have a look at the abstract class `BasePolicy`.\n",
    "\n",
    "In MetaDrive, every policy should inherit from `BasePolicy` and reimplement two core methods:\n",
    "`act(self, *args, **kwargs)` and `def get_input_space(cls)`. The `policy.act()` method aims at making driving decisions and thus produces 2-dimension actions for controlling the vehicle. To this end, the policy is allowed to access all information in the driving scene through the simulation engine and the external input from `env.step`. This external input should be a vector whose shape is defined by `policy.get_input_space()`. Therefore, the method `get_input_space` actually defines the action space for the environment and returns arbitrary space of `gym.spaces`. To elaborate on this, we explains how we design `EnvInputPolicy` which converts the external input from `env.step` to continuous signls to control the vehicles.\n",
    "\n",
    "### EnvInputPolicy\n",
    "This policy allows us to use the vector `action` accepted by `env.step(action)` to control the vehicle directly. The vector can represent the 2-dimensional raw continuous action directly or discrete/multi-discrete actions. Thus for a environment using this policy to control the ego vehicle, the action space will be `gym.Box`, `gym.Discrete`, or `gym.MultiDiscrete`. "
   ]
  },
  {
   "cell_type": "code",
   "execution_count": 1,
   "id": "6c81d804",
   "metadata": {},
   "outputs": [
    {
     "name": "stdout",
     "output_type": "stream",
     "text": [
      "    @classmethod\n",
      "    def get_input_space(cls):\n",
      "        \"\"\"\n",
      "        The Input space is a class attribute\n",
      "        \"\"\"\n",
      "        engine_global_config = get_global_config()\n",
      "        discrete_action = engine_global_config[\"discrete_action\"]\n",
      "        discrete_steering_dim = engine_global_config[\"discrete_steering_dim\"]\n",
      "        discrete_throttle_dim = engine_global_config[\"discrete_throttle_dim\"]\n",
      "        use_multi_discrete = engine_global_config[\"use_multi_discrete\"]\n",
      "\n",
      "        if not discrete_action:\n",
      "            _input_space = gym.spaces.Box(-1.0, 1.0, shape=(2, ), dtype=np.float32)\n",
      "        else:\n",
      "            if use_multi_discrete:\n",
      "                _input_space = gym.spaces.MultiDiscrete([discrete_steering_dim, discrete_throttle_dim])\n",
      "            else:\n",
      "                _input_space = gym.spaces.Discrete(discrete_steering_dim * discrete_throttle_dim)\n",
      "        return _input_space\n",
      "\n"
     ]
    }
   ],
   "source": [
    "from metadrive.policy.env_input_policy import EnvInputPolicy\n",
    "from inspect import getsource\n",
    "print(getsource(EnvInputPolicy.get_input_space))"
   ]
  },
  {
   "cell_type": "markdown",
   "id": "e675816a",
   "metadata": {},
   "source": [
    "According to the definition of `get_input_space`, one can use these configs to customize the input space of this policy as well as the action space for the environment:\n",
    "```python\n",
    "# the type of these config and the default value\n",
    "discrete_action: bool = False\n",
    "discrete_steering_dim: int = 5\n",
    "discrete_throttle_dim: int = 5\n",
    "use_multi_discrete: bool = False\n",
    "```\n",
    "By default, the action space for the environment is continuous action space bounded by `[-1, 1]`. Thus the external input, the action, will be used to control the vehicle directly. Also, you can change the action space to discrete action space by setting `discrete_action=True` when creating the environment. After that, there will be `discrete_steering_dim * discrete_throttle_dim` candidate actions that can be chosen by the external policy, i.e. a neural network for controlling the vehicle."
   ]
  },
  {
   "cell_type": "code",
   "execution_count": 2,
   "id": "bedc89da",
   "metadata": {},
   "outputs": [
    {
     "name": "stdout",
     "output_type": "stream",
     "text": [
      "Discrete(25)\n"
     ]
    }
   ],
   "source": [
    "from metadrive.envs.base_env import BaseEnv\n",
    "env=BaseEnv(dict(discrete_action=True, log_level=50))\n",
    "num_candidates=env.config[\"discrete_steering_dim\"]*env.config[\"discrete_throttle_dim\"]\n",
    "assert env.action_space.n == num_candidates\n",
    "print(env.action_space)"
   ]
  },
  {
   "cell_type": "markdown",
   "id": "60ff0dd1",
   "metadata": {},
   "source": [
    "The discrete action can also be represented by a multi-discrete vector whose shape is (2,) but each dimension only has `discrete_steering_dim`and `discrete_throttle_dim` candidate values respectively."
   ]
  },
  {
   "cell_type": "code",
   "execution_count": 3,
   "id": "3df1608c",
   "metadata": {},
   "outputs": [
    {
     "name": "stdout",
     "output_type": "stream",
     "text": [
      "MultiDiscrete([5 5])\n"
     ]
    }
   ],
   "source": [
    "env=BaseEnv(dict(discrete_action=True, use_multi_discrete=True, log_level=50))\n",
    "assert env.action_space.shape == (2,)\n",
    "print(env.action_space)"
   ]
  },
  {
   "cell_type": "markdown",
   "id": "53682aab",
   "metadata": {},
   "source": [
    "The `ExternalInputPolicy` converts these discrete input signal into continuous signals automatically via the following functio:"
   ]
  },
  {
   "cell_type": "code",
   "execution_count": 4,
   "id": "a76b79d5",
   "metadata": {},
   "outputs": [
    {
     "name": "stdout",
     "output_type": "stream",
     "text": [
      "    def convert_to_continuous_action(self, action):\n",
      "        if self.use_multi_discrete:\n",
      "            steering = action[0] * self.steering_unit - 1.0\n",
      "            throttle = action[1] * self.throttle_unit - 1.0\n",
      "        else:\n",
      "            steering = float(action % self.discrete_steering_dim) * self.steering_unit - 1.0\n",
      "            throttle = float(action // self.discrete_steering_dim) * self.throttle_unit - 1.0\n",
      "\n",
      "        return steering, throttle\n",
      "\n"
     ]
    }
   ],
   "source": [
    "print(getsource(EnvInputPolicy.convert_to_continuous_action))"
   ]
  },
  {
   "cell_type": "markdown",
   "id": "53d3108e",
   "metadata": {},
   "source": [
    "This function is called in `ExternalInputPolicy.act(agent_id)` to output the final two dimensional continuous control signal."
   ]
  },
  {
   "cell_type": "code",
   "execution_count": 5,
   "id": "1eec849f",
   "metadata": {},
   "outputs": [
    {
     "name": "stdout",
     "output_type": "stream",
     "text": [
      "    def act(self, agent_id):\n",
      "        action = self.engine.external_actions[agent_id]\n",
      "        if self.engine.global_config[\"action_check\"]:\n",
      "            # Do action check for external input in EnvInputPolicy\n",
      "            assert self.get_input_space().contains(action), \"Input {} is not compatible with action space {}!\".format(\n",
      "                action, self.get_input_space()\n",
      "            )\n",
      "        to_process = self.convert_to_continuous_action(action) if self.discrete_action else action\n",
      "\n",
      "        # clip to -1, 1\n",
      "        action = [clip(to_process[i], -1.0, 1.0) for i in range(len(to_process))]\n",
      "        self.action_info[\"action\"] = action\n",
      "        return action\n",
      "\n"
     ]
    }
   ],
   "source": [
    "print(getsource(EnvInputPolicy.act))"
   ]
  },
  {
   "cell_type": "markdown",
   "id": "2f249b1c",
   "metadata": {},
   "source": [
    "### LaneChangePolicy\n",
    "Unlike the `EnvInputPolicy`, the `LangeChangePolicy` accepts high-level commands to determine lane changing and the 3 lane change commands (left, right, keeping) is converted into steering by a PID controller. It is thus an example of intermediate policy connecting high-level driving intention and low-level raw control signals, improving the level of automation. \n",
    "\n",
    "It is inherited from `EnvInputPolicy` with `use_discrete_action=True` and `discrete_steering_dim` fixed to 3. Thus the shape of its input space is `[3, discrete_throttle_dim]`. When the first element of action is 0, 1, or 2, the car will perform left lane changing, lane keeping, and right lane changing, respectively. The following example shows such an example where the car is performing lane-changing and lane-keeping across 3 lanes. Similar to `agent_observation`, here we use `agent_policy` to specify the policy controlling the target vehicle. It overrides the default `EnvInputPolicy` with `LaneChangePolicy`."
   ]
  },
  {
   "cell_type": "code",
   "execution_count": null,
   "id": "a44e01cd",
   "metadata": {},
   "outputs": [],
   "source": [
    "from metadrive.envs.metadrive_env import MetaDriveEnv\n",
    "from metadrive.policy.lange_change_policy import LaneChangePolicy\n",
    "import time\n",
    "import os\n",
    "\n",
    "env=MetaDriveEnv(dict(map=\"C\",\n",
    "                      discrete_action=True,\n",
    "                      use_multi_discrete=True,\n",
    "                      agent_policy=LaneChangePolicy,\n",
    "                      log_level=50,\n",
    "                      traffic_density=0))\n",
    "try:\n",
    "    for _ in range(1 if os.getenv('TEST_DOC') else 100000):\n",
    "        # run several episodes\n",
    "        env.reset()\n",
    "        for step in range(200):\n",
    "            # change command\n",
    "            if step<90:\n",
    "                steering = 1\n",
    "                command = \"lane keeping\"\n",
    "            elif step<100:\n",
    "                steering = 0\n",
    "                command = \"right lane changing\"\n",
    "            elif step<140:\n",
    "                steering = 1\n",
    "                command = \"lane keeping\"\n",
    "            elif step<160:\n",
    "                steering = 0\n",
    "                command = \"right lane changing\"\n",
    "            elif step<200:\n",
    "                steering = 2\n",
    "                command = \"left lane changing\"\n",
    "            else:\n",
    "                steering = 1\n",
    "                command = \"lane keeping\"\n",
    "            # simulation\n",
    "            _,_,_,_,info = env.step([steering, 3])\n",
    "            env.render(mode=\"topdown\", \n",
    "                       text={\"command\": command},\n",
    "                       camera_position=(60,-70))\n",
    "            time.sleep(0.02)\n",
    "            if info[\"arrive_dest\"]:\n",
    "                break\n",
    "finally:\n",
    "    env.close()"
   ]
  },
  {
   "cell_type": "markdown",
   "id": "33992d88",
   "metadata": {},
   "source": []
  }
 ],
 "metadata": {
  "kernelspec": {
   "display_name": "Python 3 (ipykernel)",
   "language": "python",
   "name": "python3"
  },
  "language_info": {
   "codemirror_mode": {
    "name": "ipython",
    "version": 3
   },
   "file_extension": ".py",
   "mimetype": "text/x-python",
   "name": "python",
   "nbconvert_exporter": "python",
   "pygments_lexer": "ipython3",
   "version": "3.7.13"
  }
 },
 "nbformat": 4,
 "nbformat_minor": 5
}
