{
 "cells": [
  {
   "cell_type": "markdown",
   "id": "46051d86",
   "metadata": {},
   "source": [
    "# Action and Policy\n",
    "\n",
    "MetaDrive receives normalized action as input to control each target vehicle: $\\mathbf a = [a_1, a_2]^T \\in [-1, 1]^2$.\n",
    "\n",
    "At each environmental time step, MetaDrive converts the normalized action into the steering $u_s$ (degree), acceleration $u_a$ (hp) and brake signal $u_b$ (hp) in the following ways:\n",
    "\n",
    "    $u_s & = S_{max} a_1$\n",
    "    $u_a & = F_{max} \\max(0, a_2)$\n",
    "    $u_b & = -B_{max} \\min(0, a_2)$\n",
    "\n",
    "wherein $S_{max}$ (degree)  is the maximal steering angle, $F_{max}$ (hp) is the maximal engine force, and $B_{max}$ (hp) is the maximal brake force.\n",
    "Since the accurate values of these parameters are varying across different types of vehicle, please refer to the `VehicleParameterSpace Class <https://github.com/metadriverse/metadrive/blob/main/metadrive/utils/space.py#L219>`_ for details.\n",
    "\n",
    "By such design, the action space for each agent is always fixed to `gym.spaces.Box(low=-1.0, high=1.0, shape=(2, ))`. However, we provides a config named `extra_action_dim` (int) which allows user to add more dimensions in the action space.\n",
    "For example, if we set `config[\"extra_action_dim\"] = 1`, then the action space for each agent will become `Box(-1.0, 1.0, shape=(3, ))`. This allow the user to write environment wrapper that introduce more input action dimensions."
   ]
  }
 ],
 "metadata": {
  "kernelspec": {
   "display_name": "Python 3 (ipykernel)",
   "language": "python",
   "name": "python3"
  },
  "language_info": {
   "codemirror_mode": {
    "name": "ipython",
    "version": 3
   },
   "file_extension": ".py",
   "mimetype": "text/x-python",
   "name": "python",
   "nbconvert_exporter": "python",
   "pygments_lexer": "ipython3",
   "version": "3.7.13"
  }
 },
 "nbformat": 4,
 "nbformat_minor": 5
}
