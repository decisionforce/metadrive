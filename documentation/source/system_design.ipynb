{
 "cells": [
  {
   "cell_type": "markdown",
   "id": "1217af8d-fb2b-47e6-8147-3ee97c6babd4",
   "metadata": {},
   "source": [
    "# Simulation"
   ]
  },
  {
   "cell_type": "markdown",
   "id": "30c1fe8c-4474-43f8-a6ab-3ae1ae188262",
   "metadata": {},
   "source": [
    "## System Design"
   ]
  },
  {
   "cell_type": "markdown",
   "id": "a5b7ca4c-7959-4aa4-9f27-2ee3e02e5549",
   "metadata": {},
   "source": [
    "## Concept"
   ]
  },
  {
   "cell_type": "markdown",
   "id": "4c3ed869-026c-4ac2-9f47-c11fcd28f961",
   "metadata": {},
   "source": [
    "## Config & Parameter"
   ]
  }
 ],
 "metadata": {
  "kernelspec": {
   "display_name": "Python 3 (ipykernel)",
   "language": "python",
   "name": "python3"
  },
  "language_info": {
   "codemirror_mode": {
    "name": "ipython",
    "version": 3
   },
   "file_extension": ".py",
   "mimetype": "text/x-python",
   "name": "python",
   "nbconvert_exporter": "python",
   "pygments_lexer": "ipython3",
   "version": "3.9.17"
  }
 },
 "nbformat": 4,
 "nbformat_minor": 5
}
