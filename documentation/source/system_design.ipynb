{
 "cells": [
  {
   "cell_type": "markdown",
   "id": "f13952f0-166d-4cc1-9bb8-439a277858e7",
   "metadata": {},
   "source": [
    "# Simulation\n",
    "\n",
    "> *Simulation is the process of creating a model of a real or imagined system and then conducting experiments with this model. The purpose is usually to understand how the system works, to predict its behavior under different conditions, or to develop strategies for its operation. This is akin to creating a miniature, controllable version of a complex system in a virtual or conceptual space, where you can observe, experiment, and understand the outcomes without having to interact with the real system. This approach is invaluable in scenarios where real-world experimentation is impractical, dangerous, or impossible.*\n",
    "> \n",
    "> &mdash; *ChatGPT4*\n",
    "\n",
    "The mathematical definition of simulation is a **transition probability function**, $P(s' | s)$, which gives the probability of transitioning to state $s'$ given current state $s$.\n",
    "For a deterministic simulation, the **transition probability function** can be simplified as a **transition function** $s' = \\mathcal T (s) $. It means the state $s$ will always be transferred to the state $s'$. MetaDrive is a deterministic simulator and thus outcomes across repetitive runs will be the same if initial conditions and the random seed are identical. Therefore, MetaDrive is defined with the **state space** $S$ and **the transition function** $\\mathcal T$. \n",
    "\n",
    "As an autonomous driving simulator, for each state $s \\in S$, it consists of all static objects' information like the map structure and all dynamic objects' properties, i.e. positions, headings, velocities, and so on. \n",
    "As the static objects won't change throughout the whole simulated episode, i.e. map structure, the new state $s'$ produced by **transition function** mainly differentiates $s$ in the following aspects: \n",
    "- properties of existing dynamic objects are updated\n",
    "- properties of new dynamic objects are included if any new dynamic objects are spawned\n",
    "- properties of existing dynamic objects are deleted if any dynamic objects should be recycled\n",
    "\n",
    "Since the state space is defined and constrained to the 3D physics world, the work remaining for developers to build a driving simulation is to compose the **transition function** completing the aforementioned three tasks. Concretely, if the *openai-gym* style APIs are used, the three tasks should happen in the `env.step()` and be repeated again and again to simulate a driving scene."
   ]
  },
  {
   "cell_type": "markdown",
   "id": "30c1fe8c-4474-43f8-a6ab-3ae1ae188262",
   "metadata": {},
   "source": [
    "## System Design\n",
    "To understand the simulation, let's delve into the `env.step()`."
   ]
  },
  {
   "cell_type": "markdown",
   "id": "a5b7ca4c-7959-4aa4-9f27-2ee3e02e5549",
   "metadata": {},
   "source": [
    "## Concept"
   ]
  },
  {
   "cell_type": "markdown",
   "id": "4c3ed869-026c-4ac2-9f47-c11fcd28f961",
   "metadata": {},
   "source": [
    "## Config & Parameter"
   ]
  }
 ],
 "metadata": {
  "kernelspec": {
   "display_name": "Python 3 (ipykernel)",
   "language": "python",
   "name": "python3"
  },
  "language_info": {
   "codemirror_mode": {
    "name": "ipython",
    "version": 3
   },
   "file_extension": ".py",
   "mimetype": "text/x-python",
   "name": "python",
   "nbconvert_exporter": "python",
   "pygments_lexer": "ipython3",
   "version": "3.9.17"
  }
 },
 "nbformat": 4,
 "nbformat_minor": 5
}
