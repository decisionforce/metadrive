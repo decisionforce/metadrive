{
 "cells": [
  {
   "cell_type": "markdown",
   "id": "15c89cec",
   "metadata": {},
   "source": [
    "## Log messages\n",
    "\n",
    "Logging message is important to oversee the program status. MetaDrive adopts Python's `logging` module to log messages. "
   ]
  },
  {
   "cell_type": "markdown",
   "id": "74705157",
   "metadata": {},
   "source": [
    "### Get logger\n",
    "We provide a wrapper in `metadrive/engine/logger` to customize some features. We recommend using it to log messages to make the logging consistent. It is a global variable, so you can get the logger at anywhere of your code. Some classes like `BaseEnv` may have a variable called `logger` as well, which is actually the same as the global logger."
   ]
  },
  {
   "cell_type": "code",
   "execution_count": null,
   "id": "5f794c7f",
   "metadata": {},
   "outputs": [],
   "source": [
    "from metadrive.envs.base_env import BaseEnv\n",
    "from metadrive.engine.logger import get_logger # get_logger\n",
    "\n",
    "logger = get_logger()\n",
    "\n",
    "# create environment\n",
    "logger.info(\"Create environment\\n\")\n",
    "env = BaseEnv(dict(use_render=False))\n",
    "assert logger is env.logger # the environment.logger is the same as global logger\n",
    "\n",
    "# reset environment\n",
    "logger.info(\"Reset environment\")\n",
    "env.reset()\n",
    "try:\n",
    "    for i in range(10):\n",
    "        logger.info(\"Simulate step {}\".format(i))\n",
    "        env.step(env.action_space.sample())\n",
    "finally:\n",
    "    logger.info(\"Close environment\")\n",
    "    env.close()\n"
   ]
  },
  {
   "cell_type": "markdown",
   "id": "3fa758c0",
   "metadata": {},
   "source": [
    "The logger can be used in the simulation as well. For example, it can be used in your manager."
   ]
  },
  {
   "cell_type": "code",
   "execution_count": 4,
   "id": "51f81910",
   "metadata": {},
   "outputs": [
    {
     "name": "stderr",
     "output_type": "stream",
     "text": [
      "\u001b[38;20m[INFO] MetaDrive version: 0.4.1.2\u001b[0m\n",
      "\u001b[38;20m[INFO] Sensors: [lidar: Lidar(50,), side_detector: SideDetector(), lane_line_detector: LaneLineDetector()]\u001b[0m\n",
      "\u001b[38;20m[INFO] Render Mode: none\u001b[0m\n",
      "\u001b[33;20m[WARNING] You are using DummyObservation which doesn't collect information from the environment. (observation_base.py:41)\u001b[0m\n",
      "\u001b[38;20m[INFO] Assets version: 0.4.1.2\u001b[0m\n",
      "\u001b[33;20m[WARNING] Can not find `start_seed` or `start_scenario_index`. Use 0 as `start_seed` (base_engine.py:614)\u001b[0m\n",
      ":task(warning): Creating implicit AsyncTaskChain default for AsyncTaskManager TaskManager\n",
      "\u001b[33;20m[WARNING] No map is provided. Set vehicle to position (0, 0) with heading 0 (base_vehicle.py:310)\u001b[0m\n",
      "\u001b[33;20m[WARNING] Reward function is not implemented. Return reward = 0 (base_env.py:430)\u001b[0m\n",
      "\u001b[33;20m[WARNING] Done function is not implemented. Return Done = False (base_env.py:438)\u001b[0m\n",
      "\u001b[33;20m[WARNING] Cost function is not implemented. Return cost = 0 (base_env.py:434)\u001b[0m\n",
      "\u001b[38;20m[INFO] Init...\u001b[0m\n",
      "\u001b[38;20m[INFO] Step 1...\u001b[0m\n",
      "\u001b[38;20m[INFO] Step 2...\u001b[0m\n",
      "\u001b[38;20m[INFO] Step 3...\u001b[0m\n",
      "\u001b[38;20m[INFO] Step 4...\u001b[0m\n",
      "\u001b[38;20m[INFO] Step 5...\u001b[0m\n",
      "\u001b[38;20m[INFO] Step 6...\u001b[0m\n",
      "\u001b[38;20m[INFO] Step 7...\u001b[0m\n",
      "\u001b[38;20m[INFO] Step 8...\u001b[0m\n",
      "\u001b[38;20m[INFO] Step 9...\u001b[0m\n",
      "\u001b[38;20m[INFO] Step 10...\u001b[0m\n"
     ]
    }
   ],
   "source": [
    "from metadrive.envs.base_env import BaseEnv\n",
    "from metadrive.engine.logger import get_logger # get_logger\n",
    "from metadrive.manager.base_manager import BaseManager\n",
    "\n",
    "logger = get_logger()\n",
    "\n",
    "class MyMgr(BaseManager):\n",
    "    \n",
    "    def __init__(self):\n",
    "        super(MyMgr, self).__init__()\n",
    "        logger.info(\"Init...\")\n",
    "    \n",
    "    def after_step(self):\n",
    "        logger.info(\"Step {}...\".format(self.episode_step))\n",
    "        return dict()\n",
    "\n",
    "\n",
    "# create environment\n",
    "env = BaseEnv(dict(use_render=False))\n",
    "\n",
    "# reset environment\n",
    "env.reset()\n",
    "\n",
    "# add manager\n",
    "env.engine.register_manager(\"my_mgr\", MyMgr())\n",
    "try:\n",
    "    for i in range(10):\n",
    "        env.step(env.action_space.sample())\n",
    "    env.re\n",
    "finally:\n",
    "    env.close()"
   ]
  },
  {
   "cell_type": "markdown",
   "id": "69ea88a8",
   "metadata": {},
   "source": [
    "the log By setting `debug` to `True`, the simulation will print comprehensive debug information to the console, so you can check if there are errors with the Panda3D game engine, deferred rendering pipeline, the MetaDrive simulator, and your own Python code. \n",
    "\n",
    "By default, the log level is `logging.INFO`. "
   ]
  }
 ],
 "metadata": {
  "kernelspec": {
   "display_name": "Python 3 (ipykernel)",
   "language": "python",
   "name": "python3"
  },
  "language_info": {
   "codemirror_mode": {
    "name": "ipython",
    "version": 3
   },
   "file_extension": ".py",
   "mimetype": "text/x-python",
   "name": "python",
   "nbconvert_exporter": "python",
   "pygments_lexer": "ipython3",
   "version": "3.7.13"
  }
 },
 "nbformat": 4,
 "nbformat_minor": 5
}
