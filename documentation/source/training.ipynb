{
 "cells": [
  {
   "cell_type": "markdown",
   "id": "e3ae1079",
   "metadata": {},
   "source": [
    "# Training\n",
    "In this section, we provide examples about how to use common RL frameworks to train autonomous driving policy."
   ]
  },
  {
   "cell_type": "markdown",
   "id": "a4001744",
   "metadata": {},
   "source": [
    "## stable-baselines3\n",
    "[stable-baselines3](https://github.com/DLR-RM/stable-baselines3) is a lightweight RL training framework, providing most of the commonly used algorithms. It is easy to use on desktop PC, personal laptops, and single node servers. \n",
    "\n",
    "Training a driving agent with *stable-baselines3* is easy and straightforward. In the following example, we train an agent to drive in about 5 minutes.\n",
    "Let's first create a simple environment."
   ]
  },
  {
   "cell_type": "code",
   "execution_count": 1,
   "id": "b4ef6731",
   "metadata": {},
   "outputs": [
    {
     "name": "stdout",
     "output_type": "stream",
     "text": [
      "pygame 2.1.2 (SDL 2.0.16, Python 3.7.13)\n",
      "Hello from the pygame community. https://www.pygame.org/contribute.html\n"
     ]
    },
    {
     "name": "stderr",
     "output_type": "stream",
     "text": [
      "/home/shady/data/miniconda/envs/metadrive/lib/python3.7/site-packages/torch/utils/tensorboard/__init__.py:5: DeprecationWarning: distutils Version classes are deprecated. Use packaging.version instead.\n",
      "  tensorboard.__version__\n"
     ]
    },
    {
     "data": {
      "text/plain": [
       "<matplotlib.image.AxesImage at 0x7fc598e8ecd0>"
      ]
     },
     "execution_count": 1,
     "metadata": {},
     "output_type": "execute_result"
    },
    {
     "data": {
      "image/png": "[encoded data removed]",
      "text/plain": [
       "<Figure size 640x480 with 1 Axes>"
      ]
     },
     "metadata": {},
     "output_type": "display_data"
    }
   ],
   "source": [
    "from metadrive.envs import MetaDriveEnv\n",
    "from metadrive.policy.lange_change_policy import LaneChangePolicy\n",
    "import matplotlib.pyplot as plt\n",
    "from stable_baselines3.common.monitor import Monitor\n",
    "from metadrive.component.map.base_map import BaseMap\n",
    "from metadrive.utils import generate_gif\n",
    "from IPython.display import Image\n",
    "\n",
    "def create_env(need_monitor=False):\n",
    "    env = MetaDriveEnv(dict(map=\"C\",\n",
    "                      # This policy setting simplifies the task                      \n",
    "                      discrete_action=True,\n",
    "                      discrete_throttle_dim=3,\n",
    "                      discrete_steering_dim=3,\n",
    "                      horizon=500,\n",
    "                      # scenario setting\n",
    "                      random_spawn_lane_index=False,\n",
    "                      num_scenarios=1,\n",
    "                      start_seed=5,\n",
    "                      traffic_density=0,\n",
    "                      accident_prob=0,\n",
    "                      log_level=50))\n",
    "    if need_monitor:\n",
    "        env = Monitor(env)\n",
    "    return env\n",
    "\n",
    "env=create_env()\n",
    "env.reset()\n",
    "ret = env.render(mode=\"topdown\", \n",
    "                 no_window=True,\n",
    "                 screen_size=(600, 600), \n",
    "                 camera_position=(50, 50))\n",
    "env.close()\n",
    "plt.axis(\"off\")\n",
    "plt.imshow(ret)"
   ]
  },
  {
   "cell_type": "markdown",
   "id": "48c34482",
   "metadata": {},
   "source": [
    "The goal of this agent is driving from left-side to right-side without any collisions with the breakdown vehicle. Thus it needs learn to sidestep it. Before the training, let's install the *stable-baselines3* and dependencies at first."
   ]
  },
  {
   "cell_type": "code",
   "execution_count": null,
   "id": "b2a12ab2",
   "metadata": {},
   "outputs": [],
   "source": [
    "%pip install stable-baselines3[extra]"
   ]
  },
  {
   "cell_type": "code",
   "execution_count": null,
   "id": "400cc353",
   "metadata": {},
   "outputs": [
    {
     "name": "stdout",
     "output_type": "stream",
     "text": [
      "Using cuda device\n",
      "-----------------------------------------\n",
      "| rollout/                |             |\n",
      "|    ep_len_mean          | 159         |\n",
      "|    ep_rew_mean          | 60.2        |\n",
      "| time/                   |             |\n",
      "|    fps                  | 1114        |\n",
      "|    iterations           | 10          |\n",
      "|    time_elapsed         | 147         |\n",
      "|    total_timesteps      | 163840      |\n",
      "| train/                  |             |\n",
      "|    approx_kl            | 0.014892737 |\n",
      "|    clip_fraction        | 0.196       |\n",
      "|    clip_range           | 0.2         |\n",
      "|    entropy_loss         | -1.41       |\n",
      "|    explained_variance   | 0.509       |\n",
      "|    learning_rate        | 0.0003      |\n",
      "|    loss                 | 2.02        |\n",
      "|    n_updates            | 90          |\n",
      "|    policy_gradient_loss | -0.013      |\n",
      "|    value_loss           | 6.71        |\n",
      "-----------------------------------------\n"
     ]
    }
   ],
   "source": [
    "import gymnasium as gym\n",
    "from stable_baselines3 import PPO\n",
    "from stable_baselines3.common.vec_env.subproc_vec_env import SubprocVecEnv\n",
    "from stable_baselines3.common.utils import set_random_seed\n",
    "from functools import partial\n",
    "from IPython.display import clear_output\n",
    "import os\n",
    "\n",
    "set_random_seed(0)\n",
    "# 4 subprocess to rollout\n",
    "train_env=SubprocVecEnv([partial(create_env, True) for _ in range(4)]) \n",
    "model = PPO(\"MlpPolicy\", \n",
    "            train_env,\n",
    "            n_steps=4096,\n",
    "            verbose=1)\n",
    "model.learn(total_timesteps=1000 if os.getenv('TEST_DOC') else 300_000,\n",
    "            log_interval=4)\n",
    "\n",
    "clear_output()\n",
    "print(\"Training is finished! Generate gif ...\")\n",
    "\n",
    "# evaluation\n",
    "total_reward = 0\n",
    "env=create_env()\n",
    "obs, _ = env.reset()\n",
    "try:\n",
    "    for i in range(1000):\n",
    "        action, _states = model.predict(obs, deterministic=True)\n",
    "        obs, reward, done, _, info = env.step(action)\n",
    "        total_reward += reward\n",
    "        ret = env.render(mode=\"topdown\", \n",
    "                         screen_record=True,\n",
    "                         no_window=True,\n",
    "                         screen_size=(600, 600), \n",
    "                         camera_position=(50, 50))\n",
    "        if done:\n",
    "            print(\"episode_reward\", total_reward)\n",
    "            break\n",
    "            \n",
    "    env.top_down_renderer.generate_gif()\n",
    "finally:\n",
    "    env.close()\n",
    "print(\"gif generation is finished ...\")"
   ]
  },
  {
   "cell_type": "code",
   "execution_count": null,
   "id": "4ac9a341",
   "metadata": {},
   "outputs": [],
   "source": [
    "Image(open(\"demo.gif\", 'rb').read())"
   ]
  },
  {
   "cell_type": "markdown",
   "id": "9798ff95",
   "metadata": {},
   "source": [
    "## ray/rllib\n",
    "\n",
    "We provide a script demonstrating how to use [RLLib>=2.2.0](https://docs.ray.io/en/latest/rllib.html) to train generalizable RL agents:\n",
    "\n",
    "```bash\n",
    "# Make sure current folder does not have a sub-folder named metadrive\n",
    "python -m metadrive.examples.train_generalization_experiment\n",
    "\n",
    "# You can also use GPUs and customized experiment name:\n",
    "python -m metadrive.examples.train_generalization_experiment \\\n",
    " --exp-name CUSTOMIZED_EXP_NAME \\\n",
    " --num-gpus HOW_MANY_GPUS_IN_THIS_MACHINES\n",
    "```\n",
    "\n",
    "In this example, we leave the training hyper-parameter `config[\"num_envs_per_worker\"] = 1` as default, so that each process (ray worker) will only contain one MetaDrive instance.\n",
    "We further set the evaluation workers `config[\"evaluation_num_workers\"] = 5`, so that the test set environments are hosted in separated processes.\n",
    "By utilizing the feature of RLLib, we avoid the issue of multiple MetaDrive instances in single process. "
   ]
  },
  {
   "cell_type": "markdown",
   "id": "582b14da",
   "metadata": {},
   "source": [
    "We welcome more examples using MetaDrive in different context! Please show off your code if you like to share it by opening new issue! Thanks!"
   ]
  }
 ],
 "metadata": {
  "kernelspec": {
   "display_name": "Python 3 (ipykernel)",
   "language": "python",
   "name": "python3"
  },
  "language_info": {
   "codemirror_mode": {
    "name": "ipython",
    "version": 3
   },
   "file_extension": ".py",
   "mimetype": "text/x-python",
   "name": "python",
   "nbconvert_exporter": "python",
   "pygments_lexer": "ipython3",
   "version": "3.7.13"
  }
 },
 "nbformat": 4,
 "nbformat_minor": 5
}
