{
 "cells": [
  {
   "cell_type": "markdown",
   "id": "c4501199",
   "metadata": {},
   "source": [
    "### Debugging Physics\n",
    "It is important to making sure that physics world is accurate. For example, objects need bounding box to collide with each other; Physics bodies should be correctly configured for lane lines, sidewalks and crosswalks so that the contact between these road components and objects can be detected. To visualize the physics bodies, Let's first turn on `debug` mode. "
   ]
  },
  {
   "cell_type": "code",
   "execution_count": null,
   "id": "5f0d55a5",
   "metadata": {},
   "outputs": [],
   "source": [
    "from metadrive.envs.scenario_env import ScenarioEnv\n",
    "import numpy as np\n",
    "import os\n",
    "render = not os.getenv('TEST_DOC')\n",
    "\n",
    "# create real-world environment with debug mode\n",
    "env = ScenarioEnv(dict(use_render=render, debug=True))  "
   ]
  }
 ],
 "metadata": {
  "kernelspec": {
   "display_name": "Python 3 (ipykernel)",
   "language": "python",
   "name": "python3"
  },
  "language_info": {
   "codemirror_mode": {
    "name": "ipython",
    "version": 3
   },
   "file_extension": ".py",
   "mimetype": "text/x-python",
   "name": "python",
   "nbconvert_exporter": "python",
   "pygments_lexer": "ipython3",
   "version": "3.7.13"
  }
 },
 "nbformat": 4,
 "nbformat_minor": 5
}
