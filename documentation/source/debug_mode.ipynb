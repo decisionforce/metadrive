{
 "cells": [
  {
   "cell_type": "markdown",
   "id": "e7ca9fe8",
   "metadata": {},
   "source": [
    "## Debugging mode\n",
    "There are several configurations can be turned on to debug the simulator. As a result, you can get more console output from the simulation and visualizations such as coordinates and physics to help develop features or fix bugs. \n",
    "\n",
    "### Log messages\n",
    "\n",
    "\n"
   ]
  },
  {
   "cell_type": "markdown",
   "id": "9da6a322",
   "metadata": {},
   "source": []
  },
  {
   "cell_type": "code",
   "execution_count": 3,
   "id": "30913654",
   "metadata": {},
   "outputs": [
    {
     "name": "stderr",
     "output_type": "stream",
     "text": [
      "\u001b[38;20m[INFO] MetaDrive version: 0.4.1.2\u001b[0m\n",
      "\u001b[38;20m[INFO] Sensors: [lidar: Lidar(50,), side_detector: SideDetector(), lane_line_detector: LaneLineDetector()]\u001b[0m\n",
      "\u001b[38;20m[INFO] Render Mode: none\u001b[0m\n",
      "\u001b[38;20m[INFO] Assets version: 0.4.1.2\u001b[0m\n",
      "\u001b[33;20m[WARNING] show_dest_mark and show_line_to_dest are not supported in TrajectoryNavigation (trajectory_navigation.py:35)\u001b[0m\n"
     ]
    }
   ],
   "source": [
    "from metadrive.envs.scenario_env import ScenarioEnv\n",
    "import numpy as np\n",
    "import os\n",
    "render = not os.getenv('TEST_DOC')\n",
    "\n",
    "# create real-world environment with debug mode turned on\n",
    "env = ScenarioEnv(dict(use_render=False, debug=True))  \n",
    "env.reset()\n",
    "env.logger.debug(\"debug message\")\n",
    "try:\n",
    "    for i in range(100):\n",
    "        env.step([0,1])\n",
    "finally:\n",
    "    env.close()"
   ]
  },
  {
   "cell_type": "code",
   "execution_count": null,
   "id": "66915bab",
   "metadata": {},
   "outputs": [],
   "source": []
  },
  {
   "cell_type": "markdown",
   "id": "6bee5798",
   "metadata": {},
   "source": [
    "\n",
    "It is important to making sure that physics world is accurate. For example, objects need bounding box to collide with each other; Physics bodies should be correctly configured for lane lines, sidewalks and crosswalks so that the contact between these road components and objects can be detected. To visualize the physics bodies, Let's first turn on `debug` mode. "
   ]
  }
 ],
 "metadata": {
  "kernelspec": {
   "display_name": "Python 3 (ipykernel)",
   "language": "python",
   "name": "python3"
  },
  "language_info": {
   "codemirror_mode": {
    "name": "ipython",
    "version": 3
   },
   "file_extension": ".py",
   "mimetype": "text/x-python",
   "name": "python",
   "nbconvert_exporter": "python",
   "pygments_lexer": "ipython3",
   "version": "3.7.13"
  }
 },
 "nbformat": 4,
 "nbformat_minor": 5
}
