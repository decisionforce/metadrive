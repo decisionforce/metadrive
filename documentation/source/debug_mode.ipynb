{
 "cells": [
  {
   "cell_type": "markdown",
   "id": "5711ae69",
   "metadata": {},
   "source": [
    "## Debugging mode\n",
    "There are several configurations can be turned on to debug the simulator. As a result, you can get more console output from the simulation and visualizations such as coordinates and physics to help develop features or fix bugs. "
   ]
  },
  {
   "cell_type": "markdown",
   "id": "d3f6419b",
   "metadata": {},
   "source": [
    "### Debug physics mode\n",
    "Specifying `debug=True` in environment config will turn on the debug mode. Under this mode, the `log_level` will be changed to `logging.DEBUG`, so you will get more information from MetaDrive, Panda3D, and RenderPipeline. Besides, it allows you to visualize the physics world by pressing `1` (the one near `~`) on your keyboard. In the following example, we automatically turn on the physics world visualizer for you. Pressing `1` can turn if off.   "
   ]
  },
  {
   "cell_type": "code",
   "execution_count": null,
   "id": "4db05ca8",
   "metadata": {},
   "outputs": [],
   "source": [
    "from metadrive.envs.scenario_env import ScenarioEnv\n",
    "import numpy as np\n",
    "import os\n",
    "render = not os.getenv('TEST_DOC')\n",
    "\n",
    "# create real-world environment with debug mode turned on\n",
    "env = ScenarioEnv(dict(use_render=render, debug=True)) \n",
    "env.reset(seed=0)\n",
    "# turn on physics world visualizer\n",
    "env.engine.toggleDebug()\n",
    "\n",
    "try:\n",
    "    for i in range(200):\n",
    "        o,r,d,t,i = env.step([0,1])\n",
    "        if d:\n",
    "            break\n",
    "finally:\n",
    "    env.close()"
   ]
  },
  {
   "cell_type": "markdown",
   "id": "a6b6365a",
   "metadata": {},
   "source": [
    "\n",
    "It is important to making sure that physics world is accurate. For example, objects need bounding box to collide with each other; Physics bodies should be correctly configured for lane lines, sidewalks and crosswalks so that the contact between these road components and objects can be detected. To visualize the physics bodies, Let's first turn on `debug` mode. "
   ]
  }
 ],
 "metadata": {
  "kernelspec": {
   "display_name": "Python 3 (ipykernel)",
   "language": "python",
   "name": "python3"
  },
  "language_info": {
   "codemirror_mode": {
    "name": "ipython",
    "version": 3
   },
   "file_extension": ".py",
   "mimetype": "text/x-python",
   "name": "python",
   "nbconvert_exporter": "python",
   "pygments_lexer": "ipython3",
   "version": "3.7.13"
  }
 },
 "nbformat": 4,
 "nbformat_minor": 5
}
