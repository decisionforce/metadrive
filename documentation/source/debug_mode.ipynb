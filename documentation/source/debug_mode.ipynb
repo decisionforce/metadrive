{
 "cells": [
  {
   "cell_type": "markdown",
   "id": "5711ae69",
   "metadata": {},
   "source": [
    "## Debugging mode\n",
    "There are several configurations can be turned on to debug the simulator. As a result, you can get more console output from the simulation and visualizations such as coordinates and physics to help develop features or fix bugs. "
   ]
  },
  {
   "cell_type": "markdown",
   "id": "d3f6419b",
   "metadata": {},
   "source": [
    "### Debug physics\n",
    "<img src=\"figs/debug_physics.png\" width=\"600\">\n",
    "\n",
    "It is important to making sure that physics world is accurate. For example, objects need bounding box to collide with each other. Specifying `debug=True` in environment config can turn on the debug mode. In this mode, you can visualize the physics world by pressing `1` (the one near `~`) on your keyboard. In the following example, we automatically turn on the physics world visualizer for you. Pressing `1` can turn if off. Besides, the `log_level` will be changed to `logging.DEBUG`, so you will get more information from MetaDrive, Panda3D, and RenderPipeline."
   ]
  },
  {
   "cell_type": "code",
   "execution_count": null,
   "id": "4db05ca8",
   "metadata": {},
   "outputs": [],
   "source": [
    "from metadrive.envs.scenario_env import ScenarioEnv\n",
    "import numpy as np\n",
    "import os\n",
    "render = not os.getenv('TEST_DOC')\n",
    "\n",
    "# create real-world environment with debug mode turned on\n",
    "env = ScenarioEnv(dict(use_render=render, debug=True)) \n",
    "env.reset(seed=0)\n",
    "# turn on physics world visualizer\n",
    "env.engine.toggleDebug()\n",
    "\n",
    "try:\n",
    "    for i in range(200):\n",
    "        o,r,d,t,i = env.step([0,1])\n",
    "        if d:\n",
    "            break\n",
    "finally:\n",
    "    env.close()"
   ]
  },
  {
   "cell_type": "markdown",
   "id": "a6b6365a",
   "metadata": {},
   "source": [
    "<img src=\"figs/debug_static.png\" width=\"600\">\n",
    "\n",
    "The default debug mode only visualizes what we called `dynamics physics world`. In this world, objects can have interactions conforming the physics law like collision, friction, and gravity. Actually, there is another physics world called `static physics world` where objects won't participate in collision and enjoy zero gravity. However, one can still query this world to know if an object in `dynamics physics world` has contact with objects in the `static physics world`. Thus we usually put objects like crosswalks, lane lines and lanes in this world. As a result, we can know which lane the car is on or if it is on a lane line or sidewalk, while keep the simulation at a high FPS as we only step the `dynamics physics world`.\n",
    "\n",
    "To visualize the `dynamics physics world` and `static physics world` together, turn on the `debug_static_world`. The following example visualizes both physics worlds by adding objects which are supposed to be in `static physics world` to the `dynamics physics world`. You will also experience a FPS drop, which is why we separate the physics world into two."
   ]
  },
  {
   "cell_type": "code",
   "execution_count": null,
   "id": "a7424b40",
   "metadata": {},
   "outputs": [],
   "source": [
    "from metadrive.envs.scenario_env import ScenarioEnv\n",
    "import numpy as np\n",
    "import os\n",
    "render = not os.getenv('TEST_DOC')\n",
    "\n",
    "# create real-world environment with debug mode turned on\n",
    "env = ScenarioEnv(dict(use_render=render, debug=True, debug_static_world=True)) \n",
    "env.reset(seed=0)\n",
    "# turn on physics world visualizer\n",
    "env.engine.toggleDebug()\n",
    "\n",
    "try:\n",
    "    for i in range(200):\n",
    "        o,r,d,t,i = env.step([0,1])\n",
    "        if d:\n",
    "            break\n",
    "finally:\n",
    "    env.close()"
   ]
  },
  {
   "cell_type": "markdown",
   "id": "c8811044",
   "metadata": {},
   "source": [
    "### Show coordinates\n",
    "\n"
   ]
  },
  {
   "cell_type": "markdown",
   "id": "299a831b",
   "metadata": {},
   "source": [
    "### Debug Panda3D \n",
    "debug_panda3d and pstats "
   ]
  }
 ],
 "metadata": {
  "kernelspec": {
   "display_name": "Python 3 (ipykernel)",
   "language": "python",
   "name": "python3"
  },
  "language_info": {
   "codemirror_mode": {
    "name": "ipython",
    "version": 3
   },
   "file_extension": ".py",
   "mimetype": "text/x-python",
   "name": "python",
   "nbconvert_exporter": "python",
   "pygments_lexer": "ipython3",
   "version": "3.7.13"
  }
 },
 "nbformat": 4,
 "nbformat_minor": 5
}
