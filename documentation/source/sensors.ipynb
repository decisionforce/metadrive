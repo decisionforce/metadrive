{
 "cells": [
  {
   "cell_type": "markdown",
   "id": "0a5575ba",
   "metadata": {},
   "source": [
    "# Sensors\n",
    "\n",
    "Sensors are important for collecting information about surroundings.\n",
    "By default, all environments provide 3 basic sensors:\n",
    "\n",
    "- Lidar\n",
    "- SideDetector\n",
    "- LaneLineDetector\n",
    "\n",
    "which are used for detecting moving objects, sidewalks/solid lines, and broken/solid lines respectively.\n",
    "As these sensors are built based on ray test and don't need graphics support, they can be used in all modes.\n",
    "Also, you don't need to recreate them again, as they are not binded with any objects until `perceive()` is called and the target object is specified. After collecting results, those ray-based sensors are detached and ready for next use.\n",
    "\n",
    "You can access them at anywhere through the `engine.get_sensor(sensor_id)`:"
   ]
  },
  {
   "cell_type": "code",
   "execution_count": null,
   "id": "d07cb731-8a81-4fbe-827e-1ca2d4b150e8",
   "metadata": {
    "tags": []
   },
   "outputs": [],
   "source": [
    "from metadrive.envs.base_env import BaseEnv\n",
    "\n",
    "env = BaseEnv(dict(log_level=50))\n",
    "env.reset()\n",
    "\n",
    "lidar = env.engine.get_sensor(\"lidar\")\n",
    "side_lidar = env.engine.get_sensor(\"side_detector\")\n",
    "lane_line_lidar = env.engine.get_sensor(\"lane_line_detector\")\n",
    "print(\"Available sensors are:\", env.engine.sensors.keys())\n",
    "\n",
    "env.close()"
   ]
  },
  {
   "cell_type": "markdown",
   "id": "d33b3e7a-223a-4a89-bb9d-040f3c233adc",
   "metadata": {},
   "source": [
    "## Add New Sensor\n",
    "To add new sensors, you should request them by using `env_config`.\n",
    "If an sensor is defined as follows:\n",
    "```python\n",
    "class MySensor(BaseSensor):\n",
    "\n",
    "    def __init__(self, args_1, args_2, engine)\n",
    "```\n",
    "Then we can create it by:\n",
    "```python\n",
    "env_cfg = dict(sensors=dict(new_sensor=(MySensor, args_1, args_2)))\n",
    "env = MetaDriveEnv(env_cfg)\n",
    "```\n",
    "The following example shows how to create a RGBCamera whose buffer size are width=32, height=16.\n",
    "**Note: for creating cameras or any sensors requiring rendering, please turn on `image_observation`**."
   ]
  },
  {
   "cell_type": "code",
   "execution_count": null,
   "id": "425d66f9-118f-4b91-a343-ef1385281ba8",
   "metadata": {
    "tags": [
     "skip_execution"
    ]
   },
   "outputs": [],
   "source": [
    "from metadrive.envs.base_env import BaseEnv\n",
    "from metadrive.component.sensors.rgb_camera import RGBCamera\n",
    "import cv2\n",
    "import os\n",
    "size = (256, 128) if not os.getenv('TEST_DOC') else (16, 16) # for github CI\n",
    "\n",
    "env_cfg = dict(log_level=50, # suppress log\n",
    "               image_observation=True,\n",
    "               show_terrain=not os.getenv('TEST_DOC'),\n",
    "               sensors=dict(rgb=[RGBCamera, *size]))\n",
    "\n",
    "env = BaseEnv(env_cfg)\n",
    "env.reset()\n",
    "print(\"Available sensors are:\", env.engine.sensors.keys())\n",
    "cam = env.engine.get_sensor(\"rgb\")\n",
    "img = cam.get_rgb_array_cpu()\n",
    "cv2.imwrite(\"img.png\", img)\n",
    "\n",
    "env.close()"
   ]
  },
  {
   "cell_type": "code",
   "execution_count": null,
   "id": "1dd842e2-c89f-4715-af17-4a2d00f7bdd9",
   "metadata": {
    "tags": [
     "skip_execution"
    ]
   },
   "outputs": [],
   "source": [
    "from IPython.display import Image\n",
    "Image(open(\"img.png\", \"rb\").read())"
   ]
  },
  {
   "cell_type": "markdown",
   "id": "a15f6912-500b-433e-a69a-74660028b3d6",
   "metadata": {},
   "source": [
    "The log message shows that not only the `rgb` is created, but a `main_camera` is provided automatically, which is also an RGB camera rendering into the pop-up window. It can serve as a sensor as well. More details are available at\n",
    "<a href=\"sensors.html#main-camera\">Main Camera</a>."
   ]
  },
  {
   "cell_type": "markdown",
   "id": "c5311f1d-dc65-4f8e-840d-a46698571252",
   "metadata": {
    "tags": []
   },
   "source": [
    "## Physics-based Sensors"
   ]
  },
  {
   "cell_type": "markdown",
   "id": "8caacfa8-0d10-4dc2-8a6c-494dc7524b0d",
   "metadata": {
    "tags": []
   },
   "source": [
    "## Graphics-based Sensors\n",
    "\n",
    "### Main Camera\n",
    "\n",
    "### RGB Camera\n",
    "\n",
    "### Depth Camera\n",
    "\n",
    "### Semantic Camera"
   ]
  }
 ],
 "metadata": {
  "kernelspec": {
   "display_name": "Python 3 (ipykernel)",
   "language": "python",
   "name": "python3"
  },
  "language_info": {
   "codemirror_mode": {
    "name": "ipython",
    "version": 3
   },
   "file_extension": ".py",
   "mimetype": "text/x-python",
   "name": "python",
   "nbconvert_exporter": "python",
   "pygments_lexer": "ipython3",
   "version": "3.7.13"
  },
  "mystnb": {
   "execution_mode": "force"
  }
 },
 "nbformat": 4,
 "nbformat_minor": 5
}
