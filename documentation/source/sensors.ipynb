{
 "cells": [
  {
   "cell_type": "markdown",
   "id": "0a5575ba",
   "metadata": {},
   "source": [
    "  # Sensors\n",
    "  \n",
    "  It should be a dict like this:\n",
    "    # sensors={\n",
    "    #   \"rgb_camera\": (RGBCamera, arg_1, arg_2, ..., arg_n),\n",
    "    #    ...\n",
    "    #   \"your_sensor_name\": (sensor_class, arg_1, arg_2, ..., arg_n)\n",
    "    # }\n",
    "    # Example:\n",
    "    # sensors = dict(\n",
    "    #           lidar=(Lidar,),\n",
    "    #           side_detector=(SideDetector,),\n",
    "    #           lane_line_detector=(LaneLineDetector,)\n",
    "    #           rgb_camera=(RGBCamera, 84, 84),\n",
    "    #           mini_map=(MiniMap, 84, 84, 250),\n",
    "    #           depth_camera=(DepthCamera, 84, 84),\n",
    "    #         )\n",
    "    # These sensors will be constructed automatically and can be accessed in engine.get_sensor(\"sensor_name\")\n",
    "    # NOTE: main_camera will be added automatically if you are using offscreen/onscreen mode"
   ]
  }
 ],
 "metadata": {
  "kernelspec": {
   "display_name": "Python 3 (ipykernel)",
   "language": "python",
   "name": "python3"
  },
  "language_info": {
   "codemirror_mode": {
    "name": "ipython",
    "version": 3
   },
   "file_extension": ".py",
   "mimetype": "text/x-python",
   "name": "python",
   "nbconvert_exporter": "python",
   "pygments_lexer": "ipython3",
   "version": "3.7.13"
  }
 },
 "nbformat": 4,
 "nbformat_minor": 5
}
